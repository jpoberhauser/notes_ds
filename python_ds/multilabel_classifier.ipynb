{
 "cells": [
  {
   "cell_type": "code",
   "execution_count": 1,
   "metadata": {
    "collapsed": true
   },
   "outputs": [],
   "source": [
    "from sklearn.datasets import make_multilabel_classification\n",
    "from sklearn.preprocessing import MultiLabelBinarizer\n",
    "import numpy as np\n",
    "from sklearn.pipeline import Pipeline\n",
    "from sklearn.feature_extraction.text import CountVectorizer\n",
    "from sklearn.svm import LinearSVC\n",
    "from sklearn.feature_extraction.text import TfidfTransformer\n",
    "from sklearn.multiclass import OneVsRestClassifier"
   ]
  },
  {
   "cell_type": "code",
   "execution_count": 2,
   "metadata": {
    "collapsed": false
   },
   "outputs": [],
   "source": [
    "X_train = np.array([\"empleos\",\n",
    "                    \"numero de unidades economias\",\n",
    "                    \"desempleados\",\n",
    "                    \"gente de 8 a 9 anios\",\n",
    "                    \"gente de 10 a 23 anios\",\n",
    "                    \"gente de 23 a 103 anios que tiene empleos\",\n",
    "                    \"numero de unidades economicas que fabrican\",\n",
    "                    \"producto interno bruto del pais\",\n",
    "                    \"produccion total de mineria\",\n",
    "                    \"produccion total de plata y oro y bronze\",\n",
    "                    \"gente de 103 a 500 anios que no tiene empleos\",\n",
    "                    \"poblacion que tiene carencias\",\n",
    "                    \"unidades economicas de edicion\",\n",
    "                    \"promedio de poblacion que vive en iztapalapa\",\n",
    "                    \"esta mujeres, genero, violencia de genero y goles y encuestas\",\n",
    "                    \"mujeres y violencia de genero que trabajan en unidades ecnomicas que tiene entre 4 y 105 anios\"])"
   ]
  },
  {
   "cell_type": "code",
   "execution_count": 3,
   "metadata": {
    "collapsed": false
   },
   "outputs": [],
   "source": [
    "y_train = [[0],[0],[0],[1],[1],[0,1],[0],[0],[0],[0],[0,1],[1],[0],[1],[2],[0,2,1]]"
   ]
  },
  {
   "cell_type": "code",
   "execution_count": 148,
   "metadata": {
    "collapsed": false
   },
   "outputs": [
    {
     "data": {
      "text/plain": [
       "array([[1, 1, 1, 0, 0],\n",
       "       [1, 1, 1, 0, 1],\n",
       "       [1, 1, 0, 0, 1],\n",
       "       [1, 1, 0, 0, 0],\n",
       "       [0, 0, 1, 1, 0]])"
      ]
     },
     "execution_count": 148,
     "metadata": {},
     "output_type": "execute_result"
    }
   ],
   "source": [
    "# MultiLabelBinarizer().fit_transform(Y)"
   ]
  },
  {
   "cell_type": "code",
   "execution_count": 27,
   "metadata": {
    "collapsed": false
   },
   "outputs": [],
   "source": [
    "X_test = np.array(['unidades economicas que fabrican celulares',\n",
    "                   'gente de 45 a 102 anios',\n",
    "                   'gente de 3 a 75 anios que tiene empleos en sector manufacturero',\n",
    "                  'adios de 3 a 5768 anios',\n",
    "                  'gente desempleada que tiene empleos',\n",
    "                  'alquiler de maquinaria y equipo para construccion, mineria y actividades forestales',\n",
    "                  'mujeres que reportan violencia de genero que trabajan en unidades economias de entre 4 y 789 anios']) "
   ]
  },
  {
   "cell_type": "code",
   "execution_count": 28,
   "metadata": {
    "collapsed": false
   },
   "outputs": [],
   "source": [
    "target_names = ['economia', 'demografia','violencia de genero']"
   ]
  },
  {
   "cell_type": "markdown",
   "metadata": {},
   "source": [
    "##Que le vamos a hacer a los datos y en que orden?\n",
    "\n",
    "\n",
    "**CountVectorizer** Convert a collection of text documents to a matrix of token counts.\n",
    "    \n",
    "1. Produces a sparse representation of the counts using scipy.sparse.coo_matrix\n",
    "\n",
    "2. The number of ffeatures willbe equal to the vocabulary size found by analyzing the data.\n",
    "\n",
    "\n",
    "**TfidfTransformer** Tranform a count matrix to a normalized tf ot tf-idf representation.\n",
    "\n",
    "1. Tf means term-frequency while tf-idf means term-frequency tmies the document-frequency. This is a common therm weighting scheme in information retrieval, that has also found good use in document classification.\n",
    "\n",
    "2. The goal of using tf-idf instead of the raw frequencies of occurence of a token in a given document is to scale down the impact of tokens that occur very frequently in a given corpus and that are hence empirically less informative than features that occur in a small fraction of the training corpus.\n",
    "\n",
    "3. The actual formula used for tf-idf is tf*(idf +1) = tf + tf*idf instead of tf*idf. The effectof this is that terms with zero idf, i.e that occur in all documents of a training set, will not be entirely ignored. The formulas used to cimpute tf and idf depend on parameter settings that correspond to the SMART notation used in IR. \n",
    "\n",
    "\n",
    "**OneVsRestClassifier**\n",
    "\n",
    "1. This strategy, also known as one-vs-all, is implemented in OneVsRestClassifier. The strategy consists in fitting one classifier per class. For each classfier, the class is fitted against all the other classes. In addition to its cimputational efficiency (only n_classes classifiers are needed), one advantage of this approach is its interpretability. Since each class is represented by one and one classifier only, it is possible to gain knowledge about the class by inspecting its corresponding classifier. This is the msot commonly used strategy and is a fair default choice."
   ]
  },
  {
   "cell_type": "code",
   "execution_count": 29,
   "metadata": {
    "collapsed": false
   },
   "outputs": [],
   "source": [
    "classifier = Pipeline([\n",
    "    ('vectorizer', CountVectorizer(lowercase=True,strip_accents='ascii')),\n",
    "    ('tfidf', TfidfTransformer()),\n",
    "    ('clf', OneVsRestClassifier(LinearSVC(random_state=0)))])"
   ]
  },
  {
   "cell_type": "code",
   "execution_count": 34,
   "metadata": {
    "collapsed": false
   },
   "outputs": [
    {
     "data": {
      "text/plain": [
       "[(0,), (1,), (0, 1), (1,), (0, 1), (0,), (0, 1, 2)]"
      ]
     },
     "execution_count": 34,
     "metadata": {},
     "output_type": "execute_result"
    }
   ],
   "source": [
    "#entrenamos y predecimos\n",
    "classifier.fit(X_train, y_train)\n",
    "predicted = classifier.predict(X_test)\n",
    "predicted"
   ]
  },
  {
   "cell_type": "markdown",
   "metadata": {},
   "source": [
    "###Resultados de Predicciones:"
   ]
  },
  {
   "cell_type": "code",
   "execution_count": 32,
   "metadata": {
    "collapsed": false
   },
   "outputs": [
    {
     "name": "stdout",
     "output_type": "stream",
     "text": [
      "unidades economicas que fabrican celulares => economia\n",
      "gente de 45 a 102 anios => demografia\n",
      "gente de 3 a 75 anios que tiene empleos en sector manufacturero => economia, demografia\n",
      "adios de 3 a 5768 anios => demografia\n",
      "gente desempleada que tiene empleos => economia, demografia\n",
      "alquiler de maquinaria y equipo para construccion, mineria y actividades forestales => economia\n",
      "mujeres que reportan violencia de genero que trabajan en unidades economias de entre 4 y 789 anios => economia, demografia, violencia de genero\n"
     ]
    }
   ],
   "source": [
    "for item, labels in zip(X_test, predicted):\n",
    "    print '%s => %s' % (item, ', '.join(target_names[x] for x in labels))"
   ]
  },
  {
   "cell_type": "code",
   "execution_count": null,
   "metadata": {
    "collapsed": true
   },
   "outputs": [],
   "source": []
  },
  {
   "cell_type": "code",
   "execution_count": null,
   "metadata": {
    "collapsed": true
   },
   "outputs": [],
   "source": []
  }
 ],
 "metadata": {
  "kernelspec": {
   "display_name": "Python 2",
   "language": "python",
   "name": "python2"
  },
  "language_info": {
   "codemirror_mode": {
    "name": "ipython",
    "version": 2
   },
   "file_extension": ".py",
   "mimetype": "text/x-python",
   "name": "python",
   "nbconvert_exporter": "python",
   "pygments_lexer": "ipython2",
   "version": "2.7.8"
  }
 },
 "nbformat": 4,
 "nbformat_minor": 0
}
