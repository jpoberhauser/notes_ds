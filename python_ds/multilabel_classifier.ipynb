{
 "cells": [
  {
   "cell_type": "code",
   "execution_count": 7,
   "metadata": {
    "collapsed": true
   },
   "outputs": [],
   "source": [
    "from sklearn.datasets import make_multilabel_classification\n",
    "from sklearn.preprocessing import MultiLabelBinarizer\n",
    "import numpy as np\n",
    "from sklearn.pipeline import Pipeline\n",
    "from sklearn.feature_extraction.text import CountVectorizer\n",
    "from sklearn.svm import LinearSVC\n",
    "from sklearn.feature_extraction.text import TfidfTransformer\n",
    "from sklearn.multiclass import OneVsRestClassifier"
   ]
  },
  {
   "cell_type": "code",
   "execution_count": 146,
   "metadata": {
    "collapsed": false
   },
   "outputs": [],
   "source": [
    "X_train = np.array([\"empleos\",\n",
    "                    \"numero de unidades economias\",\n",
    "                    \"desempleados\",\n",
    "                    \"gente de 8 a 9 anios\",\n",
    "                    \"gente de 10 a 23 anios\",\n",
    "                    \"gente de 23 a 103 anios que tiene empleos\",\n",
    "                    \"numero de unidades economicas que fabrican\",\n",
    "                    \"producto interno bruto del pais\",\n",
    "                    \"produccion total de mineria\",\n",
    "                    \"produccion total de plata y oro y bronze\",\n",
    "                    \"gente de 103 a 500 anios que no tiene empleos\",\n",
    "                    \"poblacion que tiene carencias\",\n",
    "                    \"unidades economicas de edicion\",\n",
    "                    \"promedio de poblacion que vive en iztapalapa\",\n",
    "                    \"esta mujeres, genero, violencia de genero y goles y encuestas\",\n",
    "                    \"mujeres y violencia de genero que trabajan en unidades ecnomicas que tiene entre 4 y 105 anios\"])"
   ]
  },
  {
   "cell_type": "code",
   "execution_count": 147,
   "metadata": {
    "collapsed": false
   },
   "outputs": [],
   "source": [
    "y_train = [[0],[0],[0],[1],[1],[0,1],[0],[0],[0],[0],[0,1],[1],[0],[1],[2],[0,2,1]]"
   ]
  },
  {
   "cell_type": "code",
   "execution_count": 148,
   "metadata": {
    "collapsed": false
   },
   "outputs": [
    {
     "data": {
      "text/plain": [
       "array([[1, 1, 1, 0, 0],\n",
       "       [1, 1, 1, 0, 1],\n",
       "       [1, 1, 0, 0, 1],\n",
       "       [1, 1, 0, 0, 0],\n",
       "       [0, 0, 1, 1, 0]])"
      ]
     },
     "execution_count": 148,
     "metadata": {},
     "output_type": "execute_result"
    }
   ],
   "source": [
    "MultiLabelBinarizer().fit_transform(Y)"
   ]
  },
  {
   "cell_type": "code",
   "execution_count": 165,
   "metadata": {
    "collapsed": false
   },
   "outputs": [],
   "source": [
    "X_test = np.array(['unidades economicas que fabrican celulares',\n",
    "                   'gente de 45 a 102 anios',\n",
    "                   'gente de 3 a 75 anios que tiene empleos en sector manufacturero',\n",
    "                  'adios de 3 a 5768 anios',\n",
    "                  'gente desempleada que tiene empleos',\n",
    "                  'alquiler de maquinaria y equipo para construccion, mineria y actividades forestales',\n",
    "                  'mujeres que reportan violencia de genero que trabajan en unidades economias de entre 4 y 789 anios']) "
   ]
  },
  {
   "cell_type": "code",
   "execution_count": null,
   "metadata": {
    "collapsed": true
   },
   "outputs": [],
   "source": []
  },
  {
   "cell_type": "code",
   "execution_count": 166,
   "metadata": {
    "collapsed": true
   },
   "outputs": [],
   "source": [
    "target_names = ['economia', 'demografia','violencia de genero']"
   ]
  },
  {
   "cell_type": "code",
   "execution_count": 167,
   "metadata": {
    "collapsed": false
   },
   "outputs": [],
   "source": [
    "classifier = Pipeline([\n",
    "    ('vectorizer', CountVectorizer()),\n",
    "    ('tfidf', TfidfTransformer()),\n",
    "    ('clf', OneVsRestClassifier(LinearSVC()))])"
   ]
  },
  {
   "cell_type": "code",
   "execution_count": 168,
   "metadata": {
    "collapsed": false
   },
   "outputs": [
    {
     "data": {
      "text/plain": [
       "[(0,), (1,), (0, 1), (1,), (0, 1), (0,), (0, 1, 2)]"
      ]
     },
     "execution_count": 168,
     "metadata": {},
     "output_type": "execute_result"
    }
   ],
   "source": [
    "classifier.fit(X_train, y_train)\n",
    "predicted = classifier.predict(X_test)\n",
    "predicted"
   ]
  },
  {
   "cell_type": "code",
   "execution_count": 169,
   "metadata": {
    "collapsed": false
   },
   "outputs": [
    {
     "name": "stdout",
     "output_type": "stream",
     "text": [
      "unidades economicas que fabrican celulares => economia\n",
      "gente de 45 a 102 anios => demografia\n",
      "gente de 3 a 75 anios que tiene empleos en sector manufacturero => economia, demografia\n",
      "adios de 3 a 5768 anios => demografia\n",
      "gente desempleada que tiene empleos => economia, demografia\n",
      "alquiler de maquinaria y equipo para construccion, mineria y actividades forestales => economia\n",
      "mujeres que reportan violencia de genero que trabajan en unidades economias de entre 4 y 789 anios => economia, demografia, violencia de genero\n"
     ]
    }
   ],
   "source": [
    "for item, labels in zip(X_test, predicted):\n",
    "    print '%s => %s' % (item, ', '.join(target_names[x] for x in labels))"
   ]
  },
  {
   "cell_type": "code",
   "execution_count": 155,
   "metadata": {
    "collapsed": true
   },
   "outputs": [],
   "source": [
    "mlb = MultiLabelBinarizer()"
   ]
  },
  {
   "cell_type": "code",
   "execution_count": 156,
   "metadata": {
    "collapsed": false
   },
   "outputs": [
    {
     "data": {
      "text/plain": [
       "MultiLabelBinarizer(classes=None, sparse_output=False)"
      ]
     },
     "execution_count": 156,
     "metadata": {},
     "output_type": "execute_result"
    }
   ],
   "source": [
    "mlb"
   ]
  },
  {
   "cell_type": "code",
   "execution_count": 157,
   "metadata": {
    "collapsed": false
   },
   "outputs": [
    {
     "data": {
      "text/plain": [
       "array([[1, 1, 0],\n",
       "       [0, 0, 1],\n",
       "       [1, 0, 1]])"
      ]
     },
     "execution_count": 157,
     "metadata": {},
     "output_type": "execute_result"
    }
   ],
   "source": [
    " mlb.fit_transform([(1, 2), (3,),(1,3)])"
   ]
  },
  {
   "cell_type": "code",
   "execution_count": 158,
   "metadata": {
    "collapsed": false
   },
   "outputs": [
    {
     "data": {
      "text/plain": [
       "array([[0, 1, 1],\n",
       "       [1, 0, 0]])"
      ]
     },
     "execution_count": 158,
     "metadata": {},
     "output_type": "execute_result"
    }
   ],
   "source": [
    "mlb.fit_transform([set(['sci-fi', 'thriller']), set(['comedy'])])"
   ]
  },
  {
   "cell_type": "code",
   "execution_count": 159,
   "metadata": {
    "collapsed": false
   },
   "outputs": [
    {
     "data": {
      "text/plain": [
       "['comedy', 'sci-fi', 'thriller']"
      ]
     },
     "execution_count": 159,
     "metadata": {},
     "output_type": "execute_result"
    }
   ],
   "source": [
    "list(mlb.classes_)"
   ]
  },
  {
   "cell_type": "code",
   "execution_count": null,
   "metadata": {
    "collapsed": true
   },
   "outputs": [],
   "source": []
  },
  {
   "cell_type": "code",
   "execution_count": null,
   "metadata": {
    "collapsed": true
   },
   "outputs": [],
   "source": []
  }
 ],
 "metadata": {
  "kernelspec": {
   "display_name": "Python 2",
   "language": "python",
   "name": "python2"
  },
  "language_info": {
   "codemirror_mode": {
    "name": "ipython",
    "version": 2
   },
   "file_extension": ".py",
   "mimetype": "text/x-python",
   "name": "python",
   "nbconvert_exporter": "python",
   "pygments_lexer": "ipython2",
   "version": "2.7.8"
  }
 },
 "nbformat": 4,
 "nbformat_minor": 0
}
