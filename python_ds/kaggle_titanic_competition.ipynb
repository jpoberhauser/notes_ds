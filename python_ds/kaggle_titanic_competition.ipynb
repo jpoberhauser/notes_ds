{
 "cells": [
  {
   "cell_type": "markdown",
   "metadata": {},
   "source": [
    "##Kaggle Comp\n",
    "https://www.kaggle.com/c/titanic/details/getting-started-with-python"
   ]
  },
  {
   "cell_type": "markdown",
   "metadata": {},
   "source": [
    "##Getting started with Python I"
   ]
  },
  {
   "cell_type": "code",
   "execution_count": 1,
   "metadata": {
    "collapsed": false
   },
   "outputs": [
    {
     "data": {
      "text/plain": [
       "['.ipynb_checkpoints',\n",
       " 'Kaggle_ML',\n",
       " 'kaggle_titanic_competition.ipynb',\n",
       " 'notebooks',\n",
       " 'Intro_to_ml_scikit_learn.ipynb',\n",
       " 'genderbasedmodel.csv',\n",
       " 'dplyr_equi.ipynb',\n",
       " 'advanced_machine_learning_scikitlearn.ipynb']"
      ]
     },
     "execution_count": 1,
     "metadata": {},
     "output_type": "execute_result"
    }
   ],
   "source": [
    "import csv as csv \n",
    "import numpy as np\n",
    "import os\n",
    "os.getcwd()\n",
    "os.listdir('.')"
   ]
  },
  {
   "cell_type": "code",
   "execution_count": 2,
   "metadata": {
    "collapsed": false
   },
   "outputs": [],
   "source": [
    "csv_file_object = csv.reader(open('Kaggle_ML/train.csv', 'rb')) "
   ]
  },
  {
   "cell_type": "code",
   "execution_count": 3,
   "metadata": {
    "collapsed": true
   },
   "outputs": [],
   "source": [
    "header = csv_file_object.next()"
   ]
  },
  {
   "cell_type": "code",
   "execution_count": 4,
   "metadata": {
    "collapsed": false
   },
   "outputs": [],
   "source": [
    "data=[]                          # Create a variable called 'data'.\n",
    "for row in csv_file_object:      # Run through each row in the csv file,\n",
    "    data.append(row)             # adding each row to the data variable\n",
    "data = np.array(data)"
   ]
  },
  {
   "cell_type": "code",
   "execution_count": 5,
   "metadata": {
    "collapsed": false
   },
   "outputs": [
    {
     "name": "stdout",
     "output_type": "stream",
     "text": [
      "[['1' '0' '3' ..., '7.25' '' 'S']\n",
      " ['2' '1' '1' ..., '71.2833' 'C85' 'C']\n",
      " ['3' '1' '3' ..., '7.925' '' 'S']\n",
      " ..., \n",
      " ['889' '0' '3' ..., '23.45' '' 'S']\n",
      " ['890' '1' '1' ..., '30' 'C148' 'C']\n",
      " ['891' '0' '3' ..., '7.75' '' 'Q']]\n"
     ]
    }
   ],
   "source": [
    "print data"
   ]
  },
  {
   "cell_type": "code",
   "execution_count": 6,
   "metadata": {
    "collapsed": false
   },
   "outputs": [
    {
     "data": {
      "text/plain": [
       "array(['1', '0', '3', 'Braund, Mr. Owen Harris', 'male', '22', '1', '0',\n",
       "       'A/5 21171', '7.25', '', 'S'], \n",
       "      dtype='|S82')"
      ]
     },
     "execution_count": 6,
     "metadata": {},
     "output_type": "execute_result"
    }
   ],
   "source": [
    "data[0]"
   ]
  },
  {
   "cell_type": "code",
   "execution_count": 7,
   "metadata": {
    "collapsed": false
   },
   "outputs": [
    {
     "name": "stdout",
     "output_type": "stream",
     "text": [
      "['891' '0' '3' 'Dooley, Mr. Patrick' 'male' '32' '0' '0' '370376' '7.75' ''\n",
      " 'Q']\n"
     ]
    }
   ],
   "source": [
    "#and to see the last row, type  print data[-1]\n",
    "print data[-1]"
   ]
  },
  {
   "cell_type": "code",
   "execution_count": 8,
   "metadata": {
    "collapsed": false
   },
   "outputs": [
    {
     "data": {
      "text/plain": [
       "array([ 3.,  1.,  3.,  1.,  3.,  3.,  1.,  3.,  3.,  2.,  3.,  1.,  3.,\n",
       "        3.,  3.,  2.,  3.,  2.,  3.,  3.,  2.,  2.,  3.,  1.,  3.,  3.,\n",
       "        3.,  1.,  3.,  3.,  1.,  1.,  3.,  2.,  1.,  1.,  3.,  3.,  3.,\n",
       "        3.,  3.,  2.,  3.,  2.,  3.,  3.,  3.,  3.,  3.,  3.,  3.,  3.,\n",
       "        1.,  2.,  1.,  1.,  2.,  3.,  2.,  3.,  3.,  1.,  1.,  3.,  1.,\n",
       "        3.,  2.,  3.,  3.,  3.,  2.,  3.,  2.,  3.,  3.,  3.,  3.,  3.,\n",
       "        2.,  3.,  3.,  3.,  3.,  1.,  2.,  3.,  3.,  3.,  1.,  3.,  3.,\n",
       "        3.,  1.,  3.,  3.,  3.,  1.,  1.,  2.,  2.,  3.,  3.,  1.,  3.,\n",
       "        3.,  3.,  3.,  3.,  3.,  3.,  1.,  3.,  3.,  3.,  3.,  3.,  3.,\n",
       "        2.,  1.,  3.,  2.,  3.,  2.,  2.,  1.,  3.,  3.,  3.,  3.,  3.,\n",
       "        3.,  3.,  3.,  2.,  2.,  2.,  1.,  1.,  3.,  1.,  3.,  3.,  3.,\n",
       "        3.,  2.,  2.,  3.,  3.,  2.,  2.,  2.,  1.,  3.,  3.,  3.,  1.,\n",
       "        3.,  3.,  3.,  3.,  3.,  2.,  3.,  3.,  3.,  3.,  1.,  3.,  1.,\n",
       "        3.,  1.,  3.,  3.,  3.,  1.,  3.,  3.,  1.,  2.,  3.,  3.,  2.,\n",
       "        3.,  2.,  3.,  1.,  3.,  1.,  3.,  3.,  2.,  2.,  3.,  2.,  1.,\n",
       "        1.,  3.,  3.,  3.,  2.,  3.,  3.,  3.,  3.,  3.,  3.,  3.,  3.,\n",
       "        3.,  1.,  3.,  2.,  3.,  2.,  3.,  1.,  3.,  2.,  1.,  2.,  3.,\n",
       "        2.,  3.,  3.,  1.,  3.,  2.,  3.,  2.,  3.,  1.,  3.,  2.,  3.,\n",
       "        2.,  3.,  2.,  2.,  2.,  2.,  3.,  3.,  2.,  3.,  3.,  1.,  3.,\n",
       "        2.,  1.,  2.,  3.,  3.,  1.,  3.,  3.,  3.,  1.,  1.,  1.,  2.,\n",
       "        3.,  3.,  1.,  1.,  3.,  2.,  3.,  3.,  1.,  1.,  1.,  3.,  2.,\n",
       "        1.,  3.,  1.,  3.,  2.,  3.,  3.,  3.,  3.,  3.,  3.,  1.,  3.,\n",
       "        3.,  3.,  2.,  3.,  1.,  1.,  2.,  3.,  3.,  1.,  3.,  1.,  1.,\n",
       "        1.,  3.,  3.,  3.,  2.,  3.,  1.,  1.,  1.,  2.,  1.,  1.,  1.,\n",
       "        2.,  3.,  2.,  3.,  2.,  2.,  1.,  1.,  3.,  3.,  2.,  2.,  3.,\n",
       "        1.,  3.,  2.,  3.,  1.,  3.,  1.,  1.,  3.,  1.,  3.,  1.,  1.,\n",
       "        3.,  1.,  2.,  1.,  2.,  2.,  2.,  2.,  2.,  3.,  3.,  3.,  3.,\n",
       "        1.,  3.,  3.,  3.,  3.,  1.,  2.,  3.,  3.,  3.,  2.,  3.,  3.,\n",
       "        3.,  3.,  1.,  3.,  3.,  1.,  1.,  3.,  3.,  1.,  3.,  1.,  3.,\n",
       "        1.,  3.,  3.,  1.,  3.,  3.,  1.,  3.,  2.,  3.,  2.,  3.,  2.,\n",
       "        1.,  3.,  3.,  1.,  3.,  3.,  3.,  2.,  2.,  2.,  3.,  3.,  3.,\n",
       "        3.,  3.,  2.,  3.,  2.,  3.,  3.,  3.,  3.,  1.,  2.,  3.,  3.,\n",
       "        2.,  2.,  2.,  3.,  3.,  3.,  3.,  3.,  3.,  3.,  2.,  2.,  3.,\n",
       "        3.,  1.,  3.,  2.,  3.,  1.,  1.,  3.,  2.,  1.,  2.,  2.,  3.,\n",
       "        3.,  2.,  3.,  1.,  2.,  1.,  3.,  1.,  2.,  3.,  1.,  1.,  3.,\n",
       "        3.,  1.,  1.,  2.,  3.,  1.,  3.,  1.,  2.,  3.,  3.,  2.,  1.,\n",
       "        3.,  3.,  3.,  3.,  2.,  2.,  3.,  1.,  2.,  3.,  3.,  3.,  3.,\n",
       "        2.,  3.,  3.,  1.,  3.,  1.,  1.,  3.,  3.,  3.,  3.,  1.,  1.,\n",
       "        3.,  3.,  1.,  3.,  1.,  3.,  3.,  3.,  3.,  3.,  1.,  1.,  2.,\n",
       "        1.,  3.,  3.,  3.,  3.,  1.,  1.,  3.,  1.,  2.,  3.,  2.,  3.,\n",
       "        1.,  3.,  3.,  1.,  3.,  3.,  2.,  1.,  3.,  2.,  2.,  3.,  3.,\n",
       "        3.,  3.,  2.,  1.,  1.,  3.,  1.,  1.,  3.,  3.,  2.,  1.,  1.,\n",
       "        2.,  2.,  3.,  2.,  1.,  2.,  3.,  3.,  3.,  1.,  1.,  1.,  1.,\n",
       "        3.,  3.,  3.,  2.,  3.,  3.,  3.,  3.,  3.,  3.,  3.,  2.,  1.,\n",
       "        1.,  3.,  3.,  3.,  2.,  1.,  3.,  3.,  2.,  1.,  2.,  1.,  3.,\n",
       "        1.,  2.,  1.,  3.,  3.,  3.,  1.,  3.,  3.,  2.,  3.,  2.,  3.,\n",
       "        3.,  1.,  2.,  3.,  1.,  3.,  1.,  3.,  3.,  1.,  2.,  1.,  3.,\n",
       "        3.,  3.,  3.,  3.,  2.,  3.,  3.,  2.,  2.,  3.,  1.,  3.,  3.,\n",
       "        3.,  1.,  2.,  1.,  3.,  3.,  1.,  3.,  1.,  1.,  3.,  2.,  3.,\n",
       "        2.,  3.,  3.,  3.,  1.,  3.,  3.,  3.,  1.,  3.,  1.,  3.,  3.,\n",
       "        3.,  2.,  3.,  3.,  3.,  2.,  3.,  3.,  2.,  1.,  1.,  3.,  1.,\n",
       "        3.,  3.,  2.,  2.,  3.,  3.,  1.,  2.,  1.,  2.,  2.,  2.,  3.,\n",
       "        3.,  3.,  3.,  1.,  3.,  1.,  3.,  3.,  2.,  2.,  3.,  3.,  3.,\n",
       "        1.,  1.,  3.,  3.,  3.,  1.,  2.,  3.,  3.,  1.,  3.,  1.,  1.,\n",
       "        3.,  3.,  3.,  2.,  2.,  1.,  1.,  3.,  1.,  1.,  1.,  3.,  2.,\n",
       "        3.,  1.,  2.,  3.,  3.,  2.,  3.,  2.,  2.,  1.,  3.,  2.,  3.,\n",
       "        2.,  3.,  1.,  3.,  2.,  2.,  2.,  3.,  3.,  1.,  3.,  3.,  1.,\n",
       "        1.,  1.,  3.,  3.,  1.,  3.,  2.,  1.,  3.,  2.,  3.,  3.,  3.,\n",
       "        2.,  2.,  3.,  2.,  3.,  1.,  3.,  3.,  3.,  1.,  3.,  1.,  1.,\n",
       "        3.,  3.,  3.,  3.,  3.,  2.,  3.,  2.,  3.,  3.,  3.,  3.,  1.,\n",
       "        3.,  1.,  1.,  3.,  3.,  3.,  3.,  3.,  3.,  1.,  3.,  2.,  3.,\n",
       "        1.,  3.,  2.,  1.,  3.,  3.,  3.,  2.,  2.,  1.,  3.,  3.,  3.,\n",
       "        1.,  3.,  2.,  1.,  3.,  3.,  2.,  3.,  3.,  1.,  3.,  2.,  3.,\n",
       "        3.,  1.,  3.,  1.,  3.,  3.,  3.,  3.,  2.,  3.,  1.,  3.,  2.,\n",
       "        3.,  3.,  3.,  1.,  3.,  3.,  3.,  1.,  3.,  2.,  1.,  3.,  3.,\n",
       "        3.,  3.,  3.,  2.,  1.,  3.,  3.,  3.,  1.,  2.,  3.,  1.,  1.,\n",
       "        3.,  3.,  3.,  2.,  1.,  3.,  2.,  2.,  2.,  1.,  3.,  3.,  3.,\n",
       "        1.,  1.,  3.,  2.,  3.,  3.,  3.,  3.,  1.,  2.,  3.,  3.,  2.,\n",
       "        3.,  3.,  2.,  1.,  3.,  1.,  3.])"
      ]
     },
     "execution_count": 8,
     "metadata": {},
     "output_type": "execute_result"
    }
   ],
   "source": [
    "#convertimos a float de string la columna \"Survived\"\n",
    "data[0::,2].astype(np.float)"
   ]
  },
  {
   "cell_type": "code",
   "execution_count": 9,
   "metadata": {
    "collapsed": true
   },
   "outputs": [],
   "source": [
    "number_passengers = np.size(data[0::,1].astype(np.float))\n",
    "number_survived = np.sum(data[0::,1].astype(np.float))"
   ]
  },
  {
   "cell_type": "code",
   "execution_count": 10,
   "metadata": {
    "collapsed": false
   },
   "outputs": [
    {
     "data": {
      "text/plain": [
       "0.38383838383838381"
      ]
     },
     "execution_count": 10,
     "metadata": {},
     "output_type": "execute_result"
    }
   ],
   "source": [
    "proportion_survivors = number_survived / number_passengers\n",
    "proportion_survivors"
   ]
  },
  {
   "cell_type": "code",
   "execution_count": 11,
   "metadata": {
    "collapsed": false
   },
   "outputs": [],
   "source": [
    "women_only_stats = data[0::,4] == \"female\" # This finds where all \n",
    "                                           # the elements in the gender\n",
    "                                           # column that equals “female”\n",
    "men_only_stats = data[0::,4] != \"female\"   # This finds where all the \n",
    "                                           # elements do not equal \n",
    "                                           # female (i.e. male)"
   ]
  },
  {
   "cell_type": "code",
   "execution_count": 12,
   "metadata": {
    "collapsed": false
   },
   "outputs": [
    {
     "name": "stdout",
     "output_type": "stream",
     "text": [
      "Proportion of women who survived is 0.742038216561\n",
      "Proportion of men who survived is 0.188908145581\n"
     ]
    }
   ],
   "source": [
    "# Using the index from above we select the females and males separately\n",
    "women_onboard = data[women_only_stats,1].astype(np.float)     \n",
    "men_onboard = data[men_only_stats,1].astype(np.float)\n",
    "# Then we finds the proportions of them that survived\n",
    "proportion_women_survived = \\\n",
    "                       np.sum(women_onboard) / np.size(women_onboard)  \n",
    "proportion_men_survived = \\\n",
    "                       np.sum(men_onboard) / np.size(men_onboard) \n",
    "\n",
    "# and then print it out\n",
    "print 'Proportion of women who survived is %s' % proportion_women_survived\n",
    "print 'Proportion of men who survived is %s' % proportion_men_survived"
   ]
  },
  {
   "cell_type": "code",
   "execution_count": 13,
   "metadata": {
    "collapsed": false
   },
   "outputs": [],
   "source": [
    "test_file = open('Kaggle_ML/test.csv', 'rb')\n",
    "test_file_object = csv.reader(test_file)\n",
    "header = test_file_object.next()"
   ]
  },
  {
   "cell_type": "code",
   "execution_count": 14,
   "metadata": {
    "collapsed": false
   },
   "outputs": [],
   "source": [
    "prediction_file = open(\"genderbasedmodel.csv\", \"wb\")\n",
    "prediction_file_object = csv.writer(prediction_file)"
   ]
  },
  {
   "cell_type": "code",
   "execution_count": 15,
   "metadata": {
    "collapsed": true
   },
   "outputs": [],
   "source": [
    "prediction_file_object.writerow([\"PassengerId\", \"Survived\"])\n",
    "for row in test_file_object:       # For each row in test.csv\n",
    "    if row[3] == 'female':         # is it a female, if yes then                                       \n",
    "        prediction_file_object.writerow([row[0],'1'])    # predict 1\n",
    "    else:                              # or else if male,       \n",
    "        prediction_file_object.writerow([row[0],'0'])    # predict 0\n",
    "test_file.close()\n",
    "prediction_file.close()"
   ]
  },
  {
   "cell_type": "markdown",
   "metadata": {},
   "source": [
    "##Getting Started with Python II\n",
    "https://www.kaggle.com/c/titanic/details/getting-started-with-python-ii"
   ]
  },
  {
   "cell_type": "code",
   "execution_count": 16,
   "metadata": {
    "collapsed": false
   },
   "outputs": [
    {
     "data": {
      "text/plain": [
       "numpy.ndarray"
      ]
     },
     "execution_count": 16,
     "metadata": {},
     "output_type": "execute_result"
    }
   ],
   "source": [
    "#ahorita los datos todavia son numpy arrays\n",
    "type(data[0::,5]) "
   ]
  },
  {
   "cell_type": "markdown",
   "metadata": {},
   "source": [
    "###Pandas DF"
   ]
  },
  {
   "cell_type": "code",
   "execution_count": 17,
   "metadata": {
    "collapsed": false
   },
   "outputs": [],
   "source": [
    "import pandas as pd\n",
    "import numpy as np\n",
    "\n",
    "# For .read_csv, always use header=0 when you know row 0 is the header row\n",
    "df = pd.read_csv('Kaggle_ML/train.csv', header=0)"
   ]
  },
  {
   "cell_type": "code",
   "execution_count": 18,
   "metadata": {
    "collapsed": false
   },
   "outputs": [
    {
     "data": {
      "text/plain": [
       "pandas.core.frame.DataFrame"
      ]
     },
     "execution_count": 18,
     "metadata": {},
     "output_type": "execute_result"
    }
   ],
   "source": [
    "type(df)"
   ]
  },
  {
   "cell_type": "code",
   "execution_count": 19,
   "metadata": {
    "collapsed": false
   },
   "outputs": [
    {
     "data": {
      "text/html": [
       "<div style=\"max-height:1000px;max-width:1500px;overflow:auto;\">\n",
       "<table border=\"1\" class=\"dataframe\">\n",
       "  <thead>\n",
       "    <tr style=\"text-align: right;\">\n",
       "      <th></th>\n",
       "      <th>PassengerId</th>\n",
       "      <th>Survived</th>\n",
       "      <th>Pclass</th>\n",
       "      <th>Name</th>\n",
       "      <th>Sex</th>\n",
       "      <th>Age</th>\n",
       "      <th>SibSp</th>\n",
       "      <th>Parch</th>\n",
       "      <th>Ticket</th>\n",
       "      <th>Fare</th>\n",
       "      <th>Cabin</th>\n",
       "      <th>Embarked</th>\n",
       "    </tr>\n",
       "  </thead>\n",
       "  <tbody>\n",
       "    <tr>\n",
       "      <th>0</th>\n",
       "      <td> 1</td>\n",
       "      <td> 0</td>\n",
       "      <td> 3</td>\n",
       "      <td>                           Braund, Mr. Owen Harris</td>\n",
       "      <td>   male</td>\n",
       "      <td> 22</td>\n",
       "      <td> 1</td>\n",
       "      <td> 0</td>\n",
       "      <td>        A/5 21171</td>\n",
       "      <td>  7.2500</td>\n",
       "      <td>  NaN</td>\n",
       "      <td> S</td>\n",
       "    </tr>\n",
       "    <tr>\n",
       "      <th>1</th>\n",
       "      <td> 2</td>\n",
       "      <td> 1</td>\n",
       "      <td> 1</td>\n",
       "      <td> Cumings, Mrs. John Bradley (Florence Briggs Th...</td>\n",
       "      <td> female</td>\n",
       "      <td> 38</td>\n",
       "      <td> 1</td>\n",
       "      <td> 0</td>\n",
       "      <td>         PC 17599</td>\n",
       "      <td> 71.2833</td>\n",
       "      <td>  C85</td>\n",
       "      <td> C</td>\n",
       "    </tr>\n",
       "    <tr>\n",
       "      <th>2</th>\n",
       "      <td> 3</td>\n",
       "      <td> 1</td>\n",
       "      <td> 3</td>\n",
       "      <td>                            Heikkinen, Miss. Laina</td>\n",
       "      <td> female</td>\n",
       "      <td> 26</td>\n",
       "      <td> 0</td>\n",
       "      <td> 0</td>\n",
       "      <td> STON/O2. 3101282</td>\n",
       "      <td>  7.9250</td>\n",
       "      <td>  NaN</td>\n",
       "      <td> S</td>\n",
       "    </tr>\n",
       "    <tr>\n",
       "      <th>3</th>\n",
       "      <td> 4</td>\n",
       "      <td> 1</td>\n",
       "      <td> 1</td>\n",
       "      <td>      Futrelle, Mrs. Jacques Heath (Lily May Peel)</td>\n",
       "      <td> female</td>\n",
       "      <td> 35</td>\n",
       "      <td> 1</td>\n",
       "      <td> 0</td>\n",
       "      <td>           113803</td>\n",
       "      <td> 53.1000</td>\n",
       "      <td> C123</td>\n",
       "      <td> S</td>\n",
       "    </tr>\n",
       "    <tr>\n",
       "      <th>4</th>\n",
       "      <td> 5</td>\n",
       "      <td> 0</td>\n",
       "      <td> 3</td>\n",
       "      <td>                          Allen, Mr. William Henry</td>\n",
       "      <td>   male</td>\n",
       "      <td> 35</td>\n",
       "      <td> 0</td>\n",
       "      <td> 0</td>\n",
       "      <td>           373450</td>\n",
       "      <td>  8.0500</td>\n",
       "      <td>  NaN</td>\n",
       "      <td> S</td>\n",
       "    </tr>\n",
       "  </tbody>\n",
       "</table>\n",
       "</div>"
      ],
      "text/plain": [
       "   PassengerId  Survived  Pclass  \\\n",
       "0            1         0       3   \n",
       "1            2         1       1   \n",
       "2            3         1       3   \n",
       "3            4         1       1   \n",
       "4            5         0       3   \n",
       "\n",
       "                                                Name     Sex  Age  SibSp  \\\n",
       "0                            Braund, Mr. Owen Harris    male   22      1   \n",
       "1  Cumings, Mrs. John Bradley (Florence Briggs Th...  female   38      1   \n",
       "2                             Heikkinen, Miss. Laina  female   26      0   \n",
       "3       Futrelle, Mrs. Jacques Heath (Lily May Peel)  female   35      1   \n",
       "4                           Allen, Mr. William Henry    male   35      0   \n",
       "\n",
       "   Parch            Ticket     Fare Cabin Embarked  \n",
       "0      0         A/5 21171   7.2500   NaN        S  \n",
       "1      0          PC 17599  71.2833   C85        C  \n",
       "2      0  STON/O2. 3101282   7.9250   NaN        S  \n",
       "3      0            113803  53.1000  C123        S  \n",
       "4      0            373450   8.0500   NaN        S  "
      ]
     },
     "execution_count": 19,
     "metadata": {},
     "output_type": "execute_result"
    }
   ],
   "source": [
    "df.head(5)"
   ]
  },
  {
   "cell_type": "code",
   "execution_count": 20,
   "metadata": {
    "collapsed": false
   },
   "outputs": [
    {
     "data": {
      "text/plain": [
       "PassengerId      int64\n",
       "Survived         int64\n",
       "Pclass           int64\n",
       "Name            object\n",
       "Sex             object\n",
       "Age            float64\n",
       "SibSp            int64\n",
       "Parch            int64\n",
       "Ticket          object\n",
       "Fare           float64\n",
       "Cabin           object\n",
       "Embarked        object\n",
       "dtype: object"
      ]
     },
     "execution_count": 20,
     "metadata": {},
     "output_type": "execute_result"
    }
   ],
   "source": [
    "df.dtypes"
   ]
  },
  {
   "cell_type": "code",
   "execution_count": 21,
   "metadata": {
    "collapsed": false
   },
   "outputs": [
    {
     "name": "stdout",
     "output_type": "stream",
     "text": [
      "<class 'pandas.core.frame.DataFrame'>\n",
      "Int64Index: 891 entries, 0 to 890\n",
      "Data columns (total 12 columns):\n",
      "PassengerId    891 non-null int64\n",
      "Survived       891 non-null int64\n",
      "Pclass         891 non-null int64\n",
      "Name           891 non-null object\n",
      "Sex            891 non-null object\n",
      "Age            714 non-null float64\n",
      "SibSp          891 non-null int64\n",
      "Parch          891 non-null int64\n",
      "Ticket         891 non-null object\n",
      "Fare           891 non-null float64\n",
      "Cabin          204 non-null object\n",
      "Embarked       889 non-null object\n",
      "dtypes: float64(2), int64(5), object(5)"
     ]
    }
   ],
   "source": [
    "df.info()"
   ]
  },
  {
   "cell_type": "code",
   "execution_count": 22,
   "metadata": {
    "collapsed": false
   },
   "outputs": [
    {
     "data": {
      "text/html": [
       "<div style=\"max-height:1000px;max-width:1500px;overflow:auto;\">\n",
       "<table border=\"1\" class=\"dataframe\">\n",
       "  <thead>\n",
       "    <tr style=\"text-align: right;\">\n",
       "      <th></th>\n",
       "      <th>PassengerId</th>\n",
       "      <th>Survived</th>\n",
       "      <th>Pclass</th>\n",
       "      <th>Age</th>\n",
       "      <th>SibSp</th>\n",
       "      <th>Parch</th>\n",
       "      <th>Fare</th>\n",
       "    </tr>\n",
       "  </thead>\n",
       "  <tbody>\n",
       "    <tr>\n",
       "      <th>count</th>\n",
       "      <td> 891.000000</td>\n",
       "      <td> 891.000000</td>\n",
       "      <td> 891.000000</td>\n",
       "      <td> 714.000000</td>\n",
       "      <td> 891.000000</td>\n",
       "      <td> 891.000000</td>\n",
       "      <td> 891.000000</td>\n",
       "    </tr>\n",
       "    <tr>\n",
       "      <th>mean</th>\n",
       "      <td> 446.000000</td>\n",
       "      <td>   0.383838</td>\n",
       "      <td>   2.308642</td>\n",
       "      <td>  29.699118</td>\n",
       "      <td>   0.523008</td>\n",
       "      <td>   0.381594</td>\n",
       "      <td>  32.204208</td>\n",
       "    </tr>\n",
       "    <tr>\n",
       "      <th>std</th>\n",
       "      <td> 257.353842</td>\n",
       "      <td>   0.486592</td>\n",
       "      <td>   0.836071</td>\n",
       "      <td>  14.526497</td>\n",
       "      <td>   1.102743</td>\n",
       "      <td>   0.806057</td>\n",
       "      <td>  49.693429</td>\n",
       "    </tr>\n",
       "    <tr>\n",
       "      <th>min</th>\n",
       "      <td>   1.000000</td>\n",
       "      <td>   0.000000</td>\n",
       "      <td>   1.000000</td>\n",
       "      <td>   0.420000</td>\n",
       "      <td>   0.000000</td>\n",
       "      <td>   0.000000</td>\n",
       "      <td>   0.000000</td>\n",
       "    </tr>\n",
       "    <tr>\n",
       "      <th>25%</th>\n",
       "      <td> 223.500000</td>\n",
       "      <td>   0.000000</td>\n",
       "      <td>   2.000000</td>\n",
       "      <td>  20.125000</td>\n",
       "      <td>   0.000000</td>\n",
       "      <td>   0.000000</td>\n",
       "      <td>   7.910400</td>\n",
       "    </tr>\n",
       "    <tr>\n",
       "      <th>50%</th>\n",
       "      <td> 446.000000</td>\n",
       "      <td>   0.000000</td>\n",
       "      <td>   3.000000</td>\n",
       "      <td>  28.000000</td>\n",
       "      <td>   0.000000</td>\n",
       "      <td>   0.000000</td>\n",
       "      <td>  14.454200</td>\n",
       "    </tr>\n",
       "    <tr>\n",
       "      <th>75%</th>\n",
       "      <td> 668.500000</td>\n",
       "      <td>   1.000000</td>\n",
       "      <td>   3.000000</td>\n",
       "      <td>  38.000000</td>\n",
       "      <td>   1.000000</td>\n",
       "      <td>   0.000000</td>\n",
       "      <td>  31.000000</td>\n",
       "    </tr>\n",
       "    <tr>\n",
       "      <th>max</th>\n",
       "      <td> 891.000000</td>\n",
       "      <td>   1.000000</td>\n",
       "      <td>   3.000000</td>\n",
       "      <td>  80.000000</td>\n",
       "      <td>   8.000000</td>\n",
       "      <td>   6.000000</td>\n",
       "      <td> 512.329200</td>\n",
       "    </tr>\n",
       "  </tbody>\n",
       "</table>\n",
       "</div>"
      ],
      "text/plain": [
       "       PassengerId    Survived      Pclass         Age       SibSp  \\\n",
       "count   891.000000  891.000000  891.000000  714.000000  891.000000   \n",
       "mean    446.000000    0.383838    2.308642   29.699118    0.523008   \n",
       "std     257.353842    0.486592    0.836071   14.526497    1.102743   \n",
       "min       1.000000    0.000000    1.000000    0.420000    0.000000   \n",
       "25%     223.500000    0.000000    2.000000   20.125000    0.000000   \n",
       "50%     446.000000    0.000000    3.000000   28.000000    0.000000   \n",
       "75%     668.500000    1.000000    3.000000   38.000000    1.000000   \n",
       "max     891.000000    1.000000    3.000000   80.000000    8.000000   \n",
       "\n",
       "            Parch        Fare  \n",
       "count  891.000000  891.000000  \n",
       "mean     0.381594   32.204208  \n",
       "std      0.806057   49.693429  \n",
       "min      0.000000    0.000000  \n",
       "25%      0.000000    7.910400  \n",
       "50%      0.000000   14.454200  \n",
       "75%      0.000000   31.000000  \n",
       "max      6.000000  512.329200  "
      ]
     },
     "execution_count": 22,
     "metadata": {},
     "output_type": "execute_result"
    }
   ],
   "source": [
    "df.describe()"
   ]
  },
  {
   "cell_type": "markdown",
   "metadata": {},
   "source": [
    "###Data Munging"
   ]
  },
  {
   "cell_type": "code",
   "execution_count": 23,
   "metadata": {
    "collapsed": false
   },
   "outputs": [
    {
     "data": {
      "text/plain": [
       "0    22\n",
       "1    38\n",
       "2    26\n",
       "3    35\n",
       "4    35\n",
       "5   NaN\n",
       "6    54\n",
       "7     2\n",
       "8    27\n",
       "9    14\n",
       "Name: Age, dtype: float64"
      ]
     },
     "execution_count": 23,
     "metadata": {},
     "output_type": "execute_result"
    }
   ],
   "source": [
    "#Let's acquire the first 10 rows of the Age column. In pandas this is\n",
    "\n",
    "df['Age'][0:10]\n",
    "#OR\n",
    "df.Age[0:10]"
   ]
  },
  {
   "cell_type": "code",
   "execution_count": 24,
   "metadata": {
    "collapsed": false
   },
   "outputs": [
    {
     "data": {
      "text/plain": [
       "29.69911764705882"
      ]
     },
     "execution_count": 24,
     "metadata": {},
     "output_type": "execute_result"
    }
   ],
   "source": [
    "df.Age.mean()"
   ]
  },
  {
   "cell_type": "code",
   "execution_count": 25,
   "metadata": {
    "collapsed": false
   },
   "outputs": [
    {
     "data": {
      "text/html": [
       "<div style=\"max-height:1000px;max-width:1500px;overflow:auto;\">\n",
       "<table border=\"1\" class=\"dataframe\">\n",
       "  <thead>\n",
       "    <tr style=\"text-align: right;\">\n",
       "      <th></th>\n",
       "      <th>PassengerId</th>\n",
       "      <th>Survived</th>\n",
       "      <th>Pclass</th>\n",
       "      <th>Name</th>\n",
       "      <th>Sex</th>\n",
       "      <th>Age</th>\n",
       "      <th>SibSp</th>\n",
       "      <th>Parch</th>\n",
       "      <th>Ticket</th>\n",
       "      <th>Fare</th>\n",
       "      <th>Cabin</th>\n",
       "      <th>Embarked</th>\n",
       "    </tr>\n",
       "  </thead>\n",
       "  <tbody>\n",
       "    <tr>\n",
       "      <th>33 </th>\n",
       "      <td>  34</td>\n",
       "      <td> 0</td>\n",
       "      <td> 2</td>\n",
       "      <td>                     Wheadon, Mr. Edward H</td>\n",
       "      <td>   male</td>\n",
       "      <td> 66.0</td>\n",
       "      <td> 0</td>\n",
       "      <td> 0</td>\n",
       "      <td>  C.A. 24579</td>\n",
       "      <td>  10.5000</td>\n",
       "      <td>         NaN</td>\n",
       "      <td>   S</td>\n",
       "    </tr>\n",
       "    <tr>\n",
       "      <th>54 </th>\n",
       "      <td>  55</td>\n",
       "      <td> 0</td>\n",
       "      <td> 1</td>\n",
       "      <td>            Ostby, Mr. Engelhart Cornelius</td>\n",
       "      <td>   male</td>\n",
       "      <td> 65.0</td>\n",
       "      <td> 0</td>\n",
       "      <td> 1</td>\n",
       "      <td>      113509</td>\n",
       "      <td>  61.9792</td>\n",
       "      <td>         B30</td>\n",
       "      <td>   C</td>\n",
       "    </tr>\n",
       "    <tr>\n",
       "      <th>96 </th>\n",
       "      <td>  97</td>\n",
       "      <td> 0</td>\n",
       "      <td> 1</td>\n",
       "      <td>                 Goldschmidt, Mr. George B</td>\n",
       "      <td>   male</td>\n",
       "      <td> 71.0</td>\n",
       "      <td> 0</td>\n",
       "      <td> 0</td>\n",
       "      <td>    PC 17754</td>\n",
       "      <td>  34.6542</td>\n",
       "      <td>          A5</td>\n",
       "      <td>   C</td>\n",
       "    </tr>\n",
       "    <tr>\n",
       "      <th>116</th>\n",
       "      <td> 117</td>\n",
       "      <td> 0</td>\n",
       "      <td> 3</td>\n",
       "      <td>                      Connors, Mr. Patrick</td>\n",
       "      <td>   male</td>\n",
       "      <td> 70.5</td>\n",
       "      <td> 0</td>\n",
       "      <td> 0</td>\n",
       "      <td>      370369</td>\n",
       "      <td>   7.7500</td>\n",
       "      <td>         NaN</td>\n",
       "      <td>   Q</td>\n",
       "    </tr>\n",
       "    <tr>\n",
       "      <th>170</th>\n",
       "      <td> 171</td>\n",
       "      <td> 0</td>\n",
       "      <td> 1</td>\n",
       "      <td>                 Van der hoef, Mr. Wyckoff</td>\n",
       "      <td>   male</td>\n",
       "      <td> 61.0</td>\n",
       "      <td> 0</td>\n",
       "      <td> 0</td>\n",
       "      <td>      111240</td>\n",
       "      <td>  33.5000</td>\n",
       "      <td>         B19</td>\n",
       "      <td>   S</td>\n",
       "    </tr>\n",
       "    <tr>\n",
       "      <th>252</th>\n",
       "      <td> 253</td>\n",
       "      <td> 0</td>\n",
       "      <td> 1</td>\n",
       "      <td>                 Stead, Mr. William Thomas</td>\n",
       "      <td>   male</td>\n",
       "      <td> 62.0</td>\n",
       "      <td> 0</td>\n",
       "      <td> 0</td>\n",
       "      <td>      113514</td>\n",
       "      <td>  26.5500</td>\n",
       "      <td>         C87</td>\n",
       "      <td>   S</td>\n",
       "    </tr>\n",
       "    <tr>\n",
       "      <th>275</th>\n",
       "      <td> 276</td>\n",
       "      <td> 1</td>\n",
       "      <td> 1</td>\n",
       "      <td>         Andrews, Miss. Kornelia Theodosia</td>\n",
       "      <td> female</td>\n",
       "      <td> 63.0</td>\n",
       "      <td> 1</td>\n",
       "      <td> 0</td>\n",
       "      <td>       13502</td>\n",
       "      <td>  77.9583</td>\n",
       "      <td>          D7</td>\n",
       "      <td>   S</td>\n",
       "    </tr>\n",
       "    <tr>\n",
       "      <th>280</th>\n",
       "      <td> 281</td>\n",
       "      <td> 0</td>\n",
       "      <td> 3</td>\n",
       "      <td>                          Duane, Mr. Frank</td>\n",
       "      <td>   male</td>\n",
       "      <td> 65.0</td>\n",
       "      <td> 0</td>\n",
       "      <td> 0</td>\n",
       "      <td>      336439</td>\n",
       "      <td>   7.7500</td>\n",
       "      <td>         NaN</td>\n",
       "      <td>   Q</td>\n",
       "    </tr>\n",
       "    <tr>\n",
       "      <th>326</th>\n",
       "      <td> 327</td>\n",
       "      <td> 0</td>\n",
       "      <td> 3</td>\n",
       "      <td>                 Nysveen, Mr. Johan Hansen</td>\n",
       "      <td>   male</td>\n",
       "      <td> 61.0</td>\n",
       "      <td> 0</td>\n",
       "      <td> 0</td>\n",
       "      <td>      345364</td>\n",
       "      <td>   6.2375</td>\n",
       "      <td>         NaN</td>\n",
       "      <td>   S</td>\n",
       "    </tr>\n",
       "    <tr>\n",
       "      <th>438</th>\n",
       "      <td> 439</td>\n",
       "      <td> 0</td>\n",
       "      <td> 1</td>\n",
       "      <td>                         Fortune, Mr. Mark</td>\n",
       "      <td>   male</td>\n",
       "      <td> 64.0</td>\n",
       "      <td> 1</td>\n",
       "      <td> 4</td>\n",
       "      <td>       19950</td>\n",
       "      <td> 263.0000</td>\n",
       "      <td> C23 C25 C27</td>\n",
       "      <td>   S</td>\n",
       "    </tr>\n",
       "    <tr>\n",
       "      <th>456</th>\n",
       "      <td> 457</td>\n",
       "      <td> 0</td>\n",
       "      <td> 1</td>\n",
       "      <td>                 Millet, Mr. Francis Davis</td>\n",
       "      <td>   male</td>\n",
       "      <td> 65.0</td>\n",
       "      <td> 0</td>\n",
       "      <td> 0</td>\n",
       "      <td>       13509</td>\n",
       "      <td>  26.5500</td>\n",
       "      <td>         E38</td>\n",
       "      <td>   S</td>\n",
       "    </tr>\n",
       "    <tr>\n",
       "      <th>483</th>\n",
       "      <td> 484</td>\n",
       "      <td> 1</td>\n",
       "      <td> 3</td>\n",
       "      <td>                    Turkula, Mrs. (Hedwig)</td>\n",
       "      <td> female</td>\n",
       "      <td> 63.0</td>\n",
       "      <td> 0</td>\n",
       "      <td> 0</td>\n",
       "      <td>        4134</td>\n",
       "      <td>   9.5875</td>\n",
       "      <td>         NaN</td>\n",
       "      <td>   S</td>\n",
       "    </tr>\n",
       "    <tr>\n",
       "      <th>493</th>\n",
       "      <td> 494</td>\n",
       "      <td> 0</td>\n",
       "      <td> 1</td>\n",
       "      <td>                   Artagaveytia, Mr. Ramon</td>\n",
       "      <td>   male</td>\n",
       "      <td> 71.0</td>\n",
       "      <td> 0</td>\n",
       "      <td> 0</td>\n",
       "      <td>    PC 17609</td>\n",
       "      <td>  49.5042</td>\n",
       "      <td>         NaN</td>\n",
       "      <td>   C</td>\n",
       "    </tr>\n",
       "    <tr>\n",
       "      <th>545</th>\n",
       "      <td> 546</td>\n",
       "      <td> 0</td>\n",
       "      <td> 1</td>\n",
       "      <td>              Nicholson, Mr. Arthur Ernest</td>\n",
       "      <td>   male</td>\n",
       "      <td> 64.0</td>\n",
       "      <td> 0</td>\n",
       "      <td> 0</td>\n",
       "      <td>         693</td>\n",
       "      <td>  26.0000</td>\n",
       "      <td>         NaN</td>\n",
       "      <td>   S</td>\n",
       "    </tr>\n",
       "    <tr>\n",
       "      <th>555</th>\n",
       "      <td> 556</td>\n",
       "      <td> 0</td>\n",
       "      <td> 1</td>\n",
       "      <td>                        Wright, Mr. George</td>\n",
       "      <td>   male</td>\n",
       "      <td> 62.0</td>\n",
       "      <td> 0</td>\n",
       "      <td> 0</td>\n",
       "      <td>      113807</td>\n",
       "      <td>  26.5500</td>\n",
       "      <td>         NaN</td>\n",
       "      <td>   S</td>\n",
       "    </tr>\n",
       "    <tr>\n",
       "      <th>570</th>\n",
       "      <td> 571</td>\n",
       "      <td> 1</td>\n",
       "      <td> 2</td>\n",
       "      <td>                        Harris, Mr. George</td>\n",
       "      <td>   male</td>\n",
       "      <td> 62.0</td>\n",
       "      <td> 0</td>\n",
       "      <td> 0</td>\n",
       "      <td> S.W./PP 752</td>\n",
       "      <td>  10.5000</td>\n",
       "      <td>         NaN</td>\n",
       "      <td>   S</td>\n",
       "    </tr>\n",
       "    <tr>\n",
       "      <th>625</th>\n",
       "      <td> 626</td>\n",
       "      <td> 0</td>\n",
       "      <td> 1</td>\n",
       "      <td>                     Sutton, Mr. Frederick</td>\n",
       "      <td>   male</td>\n",
       "      <td> 61.0</td>\n",
       "      <td> 0</td>\n",
       "      <td> 0</td>\n",
       "      <td>       36963</td>\n",
       "      <td>  32.3208</td>\n",
       "      <td>         D50</td>\n",
       "      <td>   S</td>\n",
       "    </tr>\n",
       "    <tr>\n",
       "      <th>630</th>\n",
       "      <td> 631</td>\n",
       "      <td> 1</td>\n",
       "      <td> 1</td>\n",
       "      <td>      Barkworth, Mr. Algernon Henry Wilson</td>\n",
       "      <td>   male</td>\n",
       "      <td> 80.0</td>\n",
       "      <td> 0</td>\n",
       "      <td> 0</td>\n",
       "      <td>       27042</td>\n",
       "      <td>  30.0000</td>\n",
       "      <td>         A23</td>\n",
       "      <td>   S</td>\n",
       "    </tr>\n",
       "    <tr>\n",
       "      <th>672</th>\n",
       "      <td> 673</td>\n",
       "      <td> 0</td>\n",
       "      <td> 2</td>\n",
       "      <td>               Mitchell, Mr. Henry Michael</td>\n",
       "      <td>   male</td>\n",
       "      <td> 70.0</td>\n",
       "      <td> 0</td>\n",
       "      <td> 0</td>\n",
       "      <td>  C.A. 24580</td>\n",
       "      <td>  10.5000</td>\n",
       "      <td>         NaN</td>\n",
       "      <td>   S</td>\n",
       "    </tr>\n",
       "    <tr>\n",
       "      <th>745</th>\n",
       "      <td> 746</td>\n",
       "      <td> 0</td>\n",
       "      <td> 1</td>\n",
       "      <td>              Crosby, Capt. Edward Gifford</td>\n",
       "      <td>   male</td>\n",
       "      <td> 70.0</td>\n",
       "      <td> 1</td>\n",
       "      <td> 1</td>\n",
       "      <td>   WE/P 5735</td>\n",
       "      <td>  71.0000</td>\n",
       "      <td>         B22</td>\n",
       "      <td>   S</td>\n",
       "    </tr>\n",
       "    <tr>\n",
       "      <th>829</th>\n",
       "      <td> 830</td>\n",
       "      <td> 1</td>\n",
       "      <td> 1</td>\n",
       "      <td> Stone, Mrs. George Nelson (Martha Evelyn)</td>\n",
       "      <td> female</td>\n",
       "      <td> 62.0</td>\n",
       "      <td> 0</td>\n",
       "      <td> 0</td>\n",
       "      <td>      113572</td>\n",
       "      <td>  80.0000</td>\n",
       "      <td>         B28</td>\n",
       "      <td> NaN</td>\n",
       "    </tr>\n",
       "    <tr>\n",
       "      <th>851</th>\n",
       "      <td> 852</td>\n",
       "      <td> 0</td>\n",
       "      <td> 3</td>\n",
       "      <td>                       Svensson, Mr. Johan</td>\n",
       "      <td>   male</td>\n",
       "      <td> 74.0</td>\n",
       "      <td> 0</td>\n",
       "      <td> 0</td>\n",
       "      <td>      347060</td>\n",
       "      <td>   7.7750</td>\n",
       "      <td>         NaN</td>\n",
       "      <td>   S</td>\n",
       "    </tr>\n",
       "  </tbody>\n",
       "</table>\n",
       "</div>"
      ],
      "text/plain": [
       "     PassengerId  Survived  Pclass                                       Name  \\\n",
       "33            34         0       2                      Wheadon, Mr. Edward H   \n",
       "54            55         0       1             Ostby, Mr. Engelhart Cornelius   \n",
       "96            97         0       1                  Goldschmidt, Mr. George B   \n",
       "116          117         0       3                       Connors, Mr. Patrick   \n",
       "170          171         0       1                  Van der hoef, Mr. Wyckoff   \n",
       "252          253         0       1                  Stead, Mr. William Thomas   \n",
       "275          276         1       1          Andrews, Miss. Kornelia Theodosia   \n",
       "280          281         0       3                           Duane, Mr. Frank   \n",
       "326          327         0       3                  Nysveen, Mr. Johan Hansen   \n",
       "438          439         0       1                          Fortune, Mr. Mark   \n",
       "456          457         0       1                  Millet, Mr. Francis Davis   \n",
       "483          484         1       3                     Turkula, Mrs. (Hedwig)   \n",
       "493          494         0       1                    Artagaveytia, Mr. Ramon   \n",
       "545          546         0       1               Nicholson, Mr. Arthur Ernest   \n",
       "555          556         0       1                         Wright, Mr. George   \n",
       "570          571         1       2                         Harris, Mr. George   \n",
       "625          626         0       1                      Sutton, Mr. Frederick   \n",
       "630          631         1       1       Barkworth, Mr. Algernon Henry Wilson   \n",
       "672          673         0       2                Mitchell, Mr. Henry Michael   \n",
       "745          746         0       1               Crosby, Capt. Edward Gifford   \n",
       "829          830         1       1  Stone, Mrs. George Nelson (Martha Evelyn)   \n",
       "851          852         0       3                        Svensson, Mr. Johan   \n",
       "\n",
       "        Sex   Age  SibSp  Parch       Ticket      Fare        Cabin Embarked  \n",
       "33     male  66.0      0      0   C.A. 24579   10.5000          NaN        S  \n",
       "54     male  65.0      0      1       113509   61.9792          B30        C  \n",
       "96     male  71.0      0      0     PC 17754   34.6542           A5        C  \n",
       "116    male  70.5      0      0       370369    7.7500          NaN        Q  \n",
       "170    male  61.0      0      0       111240   33.5000          B19        S  \n",
       "252    male  62.0      0      0       113514   26.5500          C87        S  \n",
       "275  female  63.0      1      0        13502   77.9583           D7        S  \n",
       "280    male  65.0      0      0       336439    7.7500          NaN        Q  \n",
       "326    male  61.0      0      0       345364    6.2375          NaN        S  \n",
       "438    male  64.0      1      4        19950  263.0000  C23 C25 C27        S  \n",
       "456    male  65.0      0      0        13509   26.5500          E38        S  \n",
       "483  female  63.0      0      0         4134    9.5875          NaN        S  \n",
       "493    male  71.0      0      0     PC 17609   49.5042          NaN        C  \n",
       "545    male  64.0      0      0          693   26.0000          NaN        S  \n",
       "555    male  62.0      0      0       113807   26.5500          NaN        S  \n",
       "570    male  62.0      0      0  S.W./PP 752   10.5000          NaN        S  \n",
       "625    male  61.0      0      0        36963   32.3208          D50        S  \n",
       "630    male  80.0      0      0        27042   30.0000          A23        S  \n",
       "672    male  70.0      0      0   C.A. 24580   10.5000          NaN        S  \n",
       "745    male  70.0      1      1    WE/P 5735   71.0000          B22        S  \n",
       "829  female  62.0      0      0       113572   80.0000          B28      NaN  \n",
       "851    male  74.0      0      0       347060    7.7750          NaN        S  "
      ]
     },
     "execution_count": 25,
     "metadata": {},
     "output_type": "execute_result"
    }
   ],
   "source": [
    "#filter data\n",
    "df[df.Age > 60]"
   ]
  },
  {
   "cell_type": "code",
   "execution_count": 26,
   "metadata": {
    "collapsed": false
   },
   "outputs": [
    {
     "data": {
      "text/html": [
       "<div style=\"max-height:1000px;max-width:1500px;overflow:auto;\">\n",
       "<table border=\"1\" class=\"dataframe\">\n",
       "  <thead>\n",
       "    <tr style=\"text-align: right;\">\n",
       "      <th></th>\n",
       "      <th>Sex</th>\n",
       "      <th>Pclass</th>\n",
       "      <th>Age</th>\n",
       "      <th>Survived</th>\n",
       "    </tr>\n",
       "  </thead>\n",
       "  <tbody>\n",
       "    <tr>\n",
       "      <th>96 </th>\n",
       "      <td> male</td>\n",
       "      <td> 1</td>\n",
       "      <td> 71.0</td>\n",
       "      <td> 0</td>\n",
       "    </tr>\n",
       "    <tr>\n",
       "      <th>116</th>\n",
       "      <td> male</td>\n",
       "      <td> 3</td>\n",
       "      <td> 70.5</td>\n",
       "      <td> 0</td>\n",
       "    </tr>\n",
       "    <tr>\n",
       "      <th>493</th>\n",
       "      <td> male</td>\n",
       "      <td> 1</td>\n",
       "      <td> 71.0</td>\n",
       "      <td> 0</td>\n",
       "    </tr>\n",
       "    <tr>\n",
       "      <th>630</th>\n",
       "      <td> male</td>\n",
       "      <td> 1</td>\n",
       "      <td> 80.0</td>\n",
       "      <td> 1</td>\n",
       "    </tr>\n",
       "    <tr>\n",
       "      <th>851</th>\n",
       "      <td> male</td>\n",
       "      <td> 3</td>\n",
       "      <td> 74.0</td>\n",
       "      <td> 0</td>\n",
       "    </tr>\n",
       "  </tbody>\n",
       "</table>\n",
       "</div>"
      ],
      "text/plain": [
       "      Sex  Pclass   Age  Survived\n",
       "96   male       1  71.0         0\n",
       "116  male       3  70.5         0\n",
       "493  male       1  71.0         0\n",
       "630  male       1  80.0         1\n",
       "851  male       3  74.0         0"
      ]
     },
     "execution_count": 26,
     "metadata": {},
     "output_type": "execute_result"
    }
   ],
   "source": [
    "#df %>% filter(age >= 60)%>%\n",
    "#select(Sex, Pclass,Age,Survived)\n",
    "df[df['Age'] > 70][['Sex', 'Pclass', 'Age', 'Survived']]\n",
    "\n",
    "#df[df.Age > 45][[\"Age\"]]"
   ]
  },
  {
   "cell_type": "code",
   "execution_count": 27,
   "metadata": {
    "collapsed": false
   },
   "outputs": [
    {
     "data": {
      "text/html": [
       "<div style=\"max-height:1000px;max-width:1500px;overflow:auto;\">\n",
       "<table border=\"1\" class=\"dataframe\">\n",
       "  <thead>\n",
       "    <tr style=\"text-align: right;\">\n",
       "      <th></th>\n",
       "      <th>Sex</th>\n",
       "      <th>Pclass</th>\n",
       "      <th>Age</th>\n",
       "    </tr>\n",
       "  </thead>\n",
       "  <tbody>\n",
       "    <tr>\n",
       "      <th>5  </th>\n",
       "      <td>   male</td>\n",
       "      <td> 3</td>\n",
       "      <td>NaN</td>\n",
       "    </tr>\n",
       "    <tr>\n",
       "      <th>17 </th>\n",
       "      <td>   male</td>\n",
       "      <td> 2</td>\n",
       "      <td>NaN</td>\n",
       "    </tr>\n",
       "    <tr>\n",
       "      <th>19 </th>\n",
       "      <td> female</td>\n",
       "      <td> 3</td>\n",
       "      <td>NaN</td>\n",
       "    </tr>\n",
       "    <tr>\n",
       "      <th>26 </th>\n",
       "      <td>   male</td>\n",
       "      <td> 3</td>\n",
       "      <td>NaN</td>\n",
       "    </tr>\n",
       "    <tr>\n",
       "      <th>28 </th>\n",
       "      <td> female</td>\n",
       "      <td> 3</td>\n",
       "      <td>NaN</td>\n",
       "    </tr>\n",
       "    <tr>\n",
       "      <th>29 </th>\n",
       "      <td>   male</td>\n",
       "      <td> 3</td>\n",
       "      <td>NaN</td>\n",
       "    </tr>\n",
       "    <tr>\n",
       "      <th>31 </th>\n",
       "      <td> female</td>\n",
       "      <td> 1</td>\n",
       "      <td>NaN</td>\n",
       "    </tr>\n",
       "    <tr>\n",
       "      <th>32 </th>\n",
       "      <td> female</td>\n",
       "      <td> 3</td>\n",
       "      <td>NaN</td>\n",
       "    </tr>\n",
       "    <tr>\n",
       "      <th>36 </th>\n",
       "      <td>   male</td>\n",
       "      <td> 3</td>\n",
       "      <td>NaN</td>\n",
       "    </tr>\n",
       "    <tr>\n",
       "      <th>42 </th>\n",
       "      <td>   male</td>\n",
       "      <td> 3</td>\n",
       "      <td>NaN</td>\n",
       "    </tr>\n",
       "    <tr>\n",
       "      <th>45 </th>\n",
       "      <td>   male</td>\n",
       "      <td> 3</td>\n",
       "      <td>NaN</td>\n",
       "    </tr>\n",
       "    <tr>\n",
       "      <th>46 </th>\n",
       "      <td>   male</td>\n",
       "      <td> 3</td>\n",
       "      <td>NaN</td>\n",
       "    </tr>\n",
       "    <tr>\n",
       "      <th>47 </th>\n",
       "      <td> female</td>\n",
       "      <td> 3</td>\n",
       "      <td>NaN</td>\n",
       "    </tr>\n",
       "    <tr>\n",
       "      <th>48 </th>\n",
       "      <td>   male</td>\n",
       "      <td> 3</td>\n",
       "      <td>NaN</td>\n",
       "    </tr>\n",
       "    <tr>\n",
       "      <th>55 </th>\n",
       "      <td>   male</td>\n",
       "      <td> 1</td>\n",
       "      <td>NaN</td>\n",
       "    </tr>\n",
       "    <tr>\n",
       "      <th>64 </th>\n",
       "      <td>   male</td>\n",
       "      <td> 1</td>\n",
       "      <td>NaN</td>\n",
       "    </tr>\n",
       "    <tr>\n",
       "      <th>65 </th>\n",
       "      <td>   male</td>\n",
       "      <td> 3</td>\n",
       "      <td>NaN</td>\n",
       "    </tr>\n",
       "    <tr>\n",
       "      <th>76 </th>\n",
       "      <td>   male</td>\n",
       "      <td> 3</td>\n",
       "      <td>NaN</td>\n",
       "    </tr>\n",
       "    <tr>\n",
       "      <th>77 </th>\n",
       "      <td>   male</td>\n",
       "      <td> 3</td>\n",
       "      <td>NaN</td>\n",
       "    </tr>\n",
       "    <tr>\n",
       "      <th>82 </th>\n",
       "      <td> female</td>\n",
       "      <td> 3</td>\n",
       "      <td>NaN</td>\n",
       "    </tr>\n",
       "    <tr>\n",
       "      <th>87 </th>\n",
       "      <td>   male</td>\n",
       "      <td> 3</td>\n",
       "      <td>NaN</td>\n",
       "    </tr>\n",
       "    <tr>\n",
       "      <th>95 </th>\n",
       "      <td>   male</td>\n",
       "      <td> 3</td>\n",
       "      <td>NaN</td>\n",
       "    </tr>\n",
       "    <tr>\n",
       "      <th>101</th>\n",
       "      <td>   male</td>\n",
       "      <td> 3</td>\n",
       "      <td>NaN</td>\n",
       "    </tr>\n",
       "    <tr>\n",
       "      <th>107</th>\n",
       "      <td>   male</td>\n",
       "      <td> 3</td>\n",
       "      <td>NaN</td>\n",
       "    </tr>\n",
       "    <tr>\n",
       "      <th>109</th>\n",
       "      <td> female</td>\n",
       "      <td> 3</td>\n",
       "      <td>NaN</td>\n",
       "    </tr>\n",
       "    <tr>\n",
       "      <th>121</th>\n",
       "      <td>   male</td>\n",
       "      <td> 3</td>\n",
       "      <td>NaN</td>\n",
       "    </tr>\n",
       "    <tr>\n",
       "      <th>126</th>\n",
       "      <td>   male</td>\n",
       "      <td> 3</td>\n",
       "      <td>NaN</td>\n",
       "    </tr>\n",
       "    <tr>\n",
       "      <th>128</th>\n",
       "      <td> female</td>\n",
       "      <td> 3</td>\n",
       "      <td>NaN</td>\n",
       "    </tr>\n",
       "    <tr>\n",
       "      <th>140</th>\n",
       "      <td> female</td>\n",
       "      <td> 3</td>\n",
       "      <td>NaN</td>\n",
       "    </tr>\n",
       "    <tr>\n",
       "      <th>154</th>\n",
       "      <td>   male</td>\n",
       "      <td> 3</td>\n",
       "      <td>NaN</td>\n",
       "    </tr>\n",
       "    <tr>\n",
       "      <th>...</th>\n",
       "      <td>...</td>\n",
       "      <td>...</td>\n",
       "      <td>...</td>\n",
       "    </tr>\n",
       "    <tr>\n",
       "      <th>718</th>\n",
       "      <td>   male</td>\n",
       "      <td> 3</td>\n",
       "      <td>NaN</td>\n",
       "    </tr>\n",
       "    <tr>\n",
       "      <th>727</th>\n",
       "      <td> female</td>\n",
       "      <td> 3</td>\n",
       "      <td>NaN</td>\n",
       "    </tr>\n",
       "    <tr>\n",
       "      <th>732</th>\n",
       "      <td>   male</td>\n",
       "      <td> 2</td>\n",
       "      <td>NaN</td>\n",
       "    </tr>\n",
       "    <tr>\n",
       "      <th>738</th>\n",
       "      <td>   male</td>\n",
       "      <td> 3</td>\n",
       "      <td>NaN</td>\n",
       "    </tr>\n",
       "    <tr>\n",
       "      <th>739</th>\n",
       "      <td>   male</td>\n",
       "      <td> 3</td>\n",
       "      <td>NaN</td>\n",
       "    </tr>\n",
       "    <tr>\n",
       "      <th>740</th>\n",
       "      <td>   male</td>\n",
       "      <td> 1</td>\n",
       "      <td>NaN</td>\n",
       "    </tr>\n",
       "    <tr>\n",
       "      <th>760</th>\n",
       "      <td>   male</td>\n",
       "      <td> 3</td>\n",
       "      <td>NaN</td>\n",
       "    </tr>\n",
       "    <tr>\n",
       "      <th>766</th>\n",
       "      <td>   male</td>\n",
       "      <td> 1</td>\n",
       "      <td>NaN</td>\n",
       "    </tr>\n",
       "    <tr>\n",
       "      <th>768</th>\n",
       "      <td>   male</td>\n",
       "      <td> 3</td>\n",
       "      <td>NaN</td>\n",
       "    </tr>\n",
       "    <tr>\n",
       "      <th>773</th>\n",
       "      <td>   male</td>\n",
       "      <td> 3</td>\n",
       "      <td>NaN</td>\n",
       "    </tr>\n",
       "    <tr>\n",
       "      <th>776</th>\n",
       "      <td>   male</td>\n",
       "      <td> 3</td>\n",
       "      <td>NaN</td>\n",
       "    </tr>\n",
       "    <tr>\n",
       "      <th>778</th>\n",
       "      <td>   male</td>\n",
       "      <td> 3</td>\n",
       "      <td>NaN</td>\n",
       "    </tr>\n",
       "    <tr>\n",
       "      <th>783</th>\n",
       "      <td>   male</td>\n",
       "      <td> 3</td>\n",
       "      <td>NaN</td>\n",
       "    </tr>\n",
       "    <tr>\n",
       "      <th>790</th>\n",
       "      <td>   male</td>\n",
       "      <td> 3</td>\n",
       "      <td>NaN</td>\n",
       "    </tr>\n",
       "    <tr>\n",
       "      <th>792</th>\n",
       "      <td> female</td>\n",
       "      <td> 3</td>\n",
       "      <td>NaN</td>\n",
       "    </tr>\n",
       "    <tr>\n",
       "      <th>793</th>\n",
       "      <td>   male</td>\n",
       "      <td> 1</td>\n",
       "      <td>NaN</td>\n",
       "    </tr>\n",
       "    <tr>\n",
       "      <th>815</th>\n",
       "      <td>   male</td>\n",
       "      <td> 1</td>\n",
       "      <td>NaN</td>\n",
       "    </tr>\n",
       "    <tr>\n",
       "      <th>825</th>\n",
       "      <td>   male</td>\n",
       "      <td> 3</td>\n",
       "      <td>NaN</td>\n",
       "    </tr>\n",
       "    <tr>\n",
       "      <th>826</th>\n",
       "      <td>   male</td>\n",
       "      <td> 3</td>\n",
       "      <td>NaN</td>\n",
       "    </tr>\n",
       "    <tr>\n",
       "      <th>828</th>\n",
       "      <td>   male</td>\n",
       "      <td> 3</td>\n",
       "      <td>NaN</td>\n",
       "    </tr>\n",
       "    <tr>\n",
       "      <th>832</th>\n",
       "      <td>   male</td>\n",
       "      <td> 3</td>\n",
       "      <td>NaN</td>\n",
       "    </tr>\n",
       "    <tr>\n",
       "      <th>837</th>\n",
       "      <td>   male</td>\n",
       "      <td> 3</td>\n",
       "      <td>NaN</td>\n",
       "    </tr>\n",
       "    <tr>\n",
       "      <th>839</th>\n",
       "      <td>   male</td>\n",
       "      <td> 1</td>\n",
       "      <td>NaN</td>\n",
       "    </tr>\n",
       "    <tr>\n",
       "      <th>846</th>\n",
       "      <td>   male</td>\n",
       "      <td> 3</td>\n",
       "      <td>NaN</td>\n",
       "    </tr>\n",
       "    <tr>\n",
       "      <th>849</th>\n",
       "      <td> female</td>\n",
       "      <td> 1</td>\n",
       "      <td>NaN</td>\n",
       "    </tr>\n",
       "    <tr>\n",
       "      <th>859</th>\n",
       "      <td>   male</td>\n",
       "      <td> 3</td>\n",
       "      <td>NaN</td>\n",
       "    </tr>\n",
       "    <tr>\n",
       "      <th>863</th>\n",
       "      <td> female</td>\n",
       "      <td> 3</td>\n",
       "      <td>NaN</td>\n",
       "    </tr>\n",
       "    <tr>\n",
       "      <th>868</th>\n",
       "      <td>   male</td>\n",
       "      <td> 3</td>\n",
       "      <td>NaN</td>\n",
       "    </tr>\n",
       "    <tr>\n",
       "      <th>878</th>\n",
       "      <td>   male</td>\n",
       "      <td> 3</td>\n",
       "      <td>NaN</td>\n",
       "    </tr>\n",
       "    <tr>\n",
       "      <th>888</th>\n",
       "      <td> female</td>\n",
       "      <td> 3</td>\n",
       "      <td>NaN</td>\n",
       "    </tr>\n",
       "  </tbody>\n",
       "</table>\n",
       "<p>177 rows × 3 columns</p>\n",
       "</div>"
      ],
      "text/plain": [
       "        Sex  Pclass  Age\n",
       "5      male       3  NaN\n",
       "17     male       2  NaN\n",
       "19   female       3  NaN\n",
       "26     male       3  NaN\n",
       "28   female       3  NaN\n",
       "29     male       3  NaN\n",
       "31   female       1  NaN\n",
       "32   female       3  NaN\n",
       "36     male       3  NaN\n",
       "42     male       3  NaN\n",
       "45     male       3  NaN\n",
       "46     male       3  NaN\n",
       "47   female       3  NaN\n",
       "48     male       3  NaN\n",
       "55     male       1  NaN\n",
       "64     male       1  NaN\n",
       "65     male       3  NaN\n",
       "76     male       3  NaN\n",
       "77     male       3  NaN\n",
       "82   female       3  NaN\n",
       "87     male       3  NaN\n",
       "95     male       3  NaN\n",
       "101    male       3  NaN\n",
       "107    male       3  NaN\n",
       "109  female       3  NaN\n",
       "121    male       3  NaN\n",
       "126    male       3  NaN\n",
       "128  female       3  NaN\n",
       "140  female       3  NaN\n",
       "154    male       3  NaN\n",
       "..      ...     ...  ...\n",
       "718    male       3  NaN\n",
       "727  female       3  NaN\n",
       "732    male       2  NaN\n",
       "738    male       3  NaN\n",
       "739    male       3  NaN\n",
       "740    male       1  NaN\n",
       "760    male       3  NaN\n",
       "766    male       1  NaN\n",
       "768    male       3  NaN\n",
       "773    male       3  NaN\n",
       "776    male       3  NaN\n",
       "778    male       3  NaN\n",
       "783    male       3  NaN\n",
       "790    male       3  NaN\n",
       "792  female       3  NaN\n",
       "793    male       1  NaN\n",
       "815    male       1  NaN\n",
       "825    male       3  NaN\n",
       "826    male       3  NaN\n",
       "828    male       3  NaN\n",
       "832    male       3  NaN\n",
       "837    male       3  NaN\n",
       "839    male       1  NaN\n",
       "846    male       3  NaN\n",
       "849  female       1  NaN\n",
       "859    male       3  NaN\n",
       "863  female       3  NaN\n",
       "868    male       3  NaN\n",
       "878    male       3  NaN\n",
       "888  female       3  NaN\n",
       "\n",
       "[177 rows x 3 columns]"
      ]
     },
     "execution_count": 27,
     "metadata": {},
     "output_type": "execute_result"
    }
   ],
   "source": [
    "#To filter for missing values, use\n",
    "df[df['Age'].isnull()][['Sex', 'Pclass', 'Age']]\n",
    "\n",
    "\n",
    "#df[df.Age.isnull()][[\"Age\",\"Name\"]]"
   ]
  },
  {
   "cell_type": "code",
   "execution_count": 28,
   "metadata": {
    "collapsed": false
   },
   "outputs": [
    {
     "name": "stdout",
     "output_type": "stream",
     "text": [
      "1 122\n",
      "2 108\n",
      "3 347\n"
     ]
    }
   ],
   "source": [
    "#Here we se ehow many males there were in each class\n",
    "for i in range(1,4):\n",
    "    print i, len(df[ (df['Sex'] == 'male') & (df['Pclass'] == i) ])"
   ]
  },
  {
   "cell_type": "code",
   "execution_count": 32,
   "metadata": {
    "collapsed": false
   },
   "outputs": [],
   "source": [
    "import pylab as P\n",
    "#df['Age'].hist()\n",
    "#P.show()\n",
    "df['Age'].dropna().hist(bins=16, range=(0,80), alpha = .5)\n",
    "P.show()"
   ]
  },
  {
   "cell_type": "markdown",
   "metadata": {},
   "source": [
    "##Cleaning the data\n",
    "https://www.kaggle.com/c/titanic/details/getting-started-with-python-ii"
   ]
  },
  {
   "cell_type": "code",
   "execution_count": 33,
   "metadata": {
    "collapsed": true
   },
   "outputs": [],
   "source": [
    "#make a new columns called gender in which male and female are 0 and 1s\n",
    "df['Gender'] = df['Sex'].map( {'female': 0, 'male': 1} ).astype(int)"
   ]
  },
  {
   "cell_type": "markdown",
   "metadata": {},
   "source": [
    "Now we want to deal wih the missing values in the Age column. "
   ]
  },
  {
   "cell_type": "code",
   "execution_count": 34,
   "metadata": {
    "collapsed": false
   },
   "outputs": [
    {
     "data": {
      "text/plain": [
       "array([[ 0.,  0.,  0.],\n",
       "       [ 0.,  0.,  0.]])"
      ]
     },
     "execution_count": 34,
     "metadata": {},
     "output_type": "execute_result"
    }
   ],
   "source": [
    "#initialize the empty matrix\n",
    "median_ages = np.zeros((2,3))\n",
    "median_ages"
   ]
  },
  {
   "cell_type": "code",
   "execution_count": 35,
   "metadata": {
    "collapsed": false
   },
   "outputs": [
    {
     "data": {
      "text/plain": [
       "array([[ 35. ,  28. ,  21.5],\n",
       "       [ 40. ,  30. ,  25. ]])"
      ]
     },
     "execution_count": 35,
     "metadata": {},
     "output_type": "execute_result"
    }
   ],
   "source": [
    "#here we get the median ages for each class!\n",
    "for i in range(0, 2):\n",
    "    for j in range(0, 3):\n",
    "        median_ages[i,j] = df[(df['Gender'] == i) & \\\n",
    "                              (df['Pclass'] == j+1)]['Age'].dropna().median()\n",
    " \n",
    "median_ages"
   ]
  },
  {
   "cell_type": "code",
   "execution_count": 36,
   "metadata": {
    "collapsed": false
   },
   "outputs": [
    {
     "data": {
      "text/html": [
       "<div style=\"max-height:1000px;max-width:1500px;overflow:auto;\">\n",
       "<table border=\"1\" class=\"dataframe\">\n",
       "  <thead>\n",
       "    <tr style=\"text-align: right;\">\n",
       "      <th></th>\n",
       "      <th>PassengerId</th>\n",
       "      <th>Survived</th>\n",
       "      <th>Pclass</th>\n",
       "      <th>Name</th>\n",
       "      <th>Sex</th>\n",
       "      <th>Age</th>\n",
       "      <th>SibSp</th>\n",
       "      <th>Parch</th>\n",
       "      <th>Ticket</th>\n",
       "      <th>Fare</th>\n",
       "      <th>Cabin</th>\n",
       "      <th>Embarked</th>\n",
       "      <th>Gender</th>\n",
       "      <th>AgeFill</th>\n",
       "    </tr>\n",
       "  </thead>\n",
       "  <tbody>\n",
       "    <tr>\n",
       "      <th>0</th>\n",
       "      <td> 1</td>\n",
       "      <td> 0</td>\n",
       "      <td> 3</td>\n",
       "      <td>                           Braund, Mr. Owen Harris</td>\n",
       "      <td>   male</td>\n",
       "      <td> 22</td>\n",
       "      <td> 1</td>\n",
       "      <td> 0</td>\n",
       "      <td>        A/5 21171</td>\n",
       "      <td>  7.2500</td>\n",
       "      <td>  NaN</td>\n",
       "      <td> S</td>\n",
       "      <td> 1</td>\n",
       "      <td> 22</td>\n",
       "    </tr>\n",
       "    <tr>\n",
       "      <th>1</th>\n",
       "      <td> 2</td>\n",
       "      <td> 1</td>\n",
       "      <td> 1</td>\n",
       "      <td> Cumings, Mrs. John Bradley (Florence Briggs Th...</td>\n",
       "      <td> female</td>\n",
       "      <td> 38</td>\n",
       "      <td> 1</td>\n",
       "      <td> 0</td>\n",
       "      <td>         PC 17599</td>\n",
       "      <td> 71.2833</td>\n",
       "      <td>  C85</td>\n",
       "      <td> C</td>\n",
       "      <td> 0</td>\n",
       "      <td> 38</td>\n",
       "    </tr>\n",
       "    <tr>\n",
       "      <th>2</th>\n",
       "      <td> 3</td>\n",
       "      <td> 1</td>\n",
       "      <td> 3</td>\n",
       "      <td>                            Heikkinen, Miss. Laina</td>\n",
       "      <td> female</td>\n",
       "      <td> 26</td>\n",
       "      <td> 0</td>\n",
       "      <td> 0</td>\n",
       "      <td> STON/O2. 3101282</td>\n",
       "      <td>  7.9250</td>\n",
       "      <td>  NaN</td>\n",
       "      <td> S</td>\n",
       "      <td> 0</td>\n",
       "      <td> 26</td>\n",
       "    </tr>\n",
       "    <tr>\n",
       "      <th>3</th>\n",
       "      <td> 4</td>\n",
       "      <td> 1</td>\n",
       "      <td> 1</td>\n",
       "      <td>      Futrelle, Mrs. Jacques Heath (Lily May Peel)</td>\n",
       "      <td> female</td>\n",
       "      <td> 35</td>\n",
       "      <td> 1</td>\n",
       "      <td> 0</td>\n",
       "      <td>           113803</td>\n",
       "      <td> 53.1000</td>\n",
       "      <td> C123</td>\n",
       "      <td> S</td>\n",
       "      <td> 0</td>\n",
       "      <td> 35</td>\n",
       "    </tr>\n",
       "    <tr>\n",
       "      <th>4</th>\n",
       "      <td> 5</td>\n",
       "      <td> 0</td>\n",
       "      <td> 3</td>\n",
       "      <td>                          Allen, Mr. William Henry</td>\n",
       "      <td>   male</td>\n",
       "      <td> 35</td>\n",
       "      <td> 0</td>\n",
       "      <td> 0</td>\n",
       "      <td>           373450</td>\n",
       "      <td>  8.0500</td>\n",
       "      <td>  NaN</td>\n",
       "      <td> S</td>\n",
       "      <td> 1</td>\n",
       "      <td> 35</td>\n",
       "    </tr>\n",
       "  </tbody>\n",
       "</table>\n",
       "</div>"
      ],
      "text/plain": [
       "   PassengerId  Survived  Pclass  \\\n",
       "0            1         0       3   \n",
       "1            2         1       1   \n",
       "2            3         1       3   \n",
       "3            4         1       1   \n",
       "4            5         0       3   \n",
       "\n",
       "                                                Name     Sex  Age  SibSp  \\\n",
       "0                            Braund, Mr. Owen Harris    male   22      1   \n",
       "1  Cumings, Mrs. John Bradley (Florence Briggs Th...  female   38      1   \n",
       "2                             Heikkinen, Miss. Laina  female   26      0   \n",
       "3       Futrelle, Mrs. Jacques Heath (Lily May Peel)  female   35      1   \n",
       "4                           Allen, Mr. William Henry    male   35      0   \n",
       "\n",
       "   Parch            Ticket     Fare Cabin Embarked  Gender  AgeFill  \n",
       "0      0         A/5 21171   7.2500   NaN        S       1       22  \n",
       "1      0          PC 17599  71.2833   C85        C       0       38  \n",
       "2      0  STON/O2. 3101282   7.9250   NaN        S       0       26  \n",
       "3      0            113803  53.1000  C123        S       0       35  \n",
       "4      0            373450   8.0500   NaN        S       1       35  "
      ]
     },
     "execution_count": 36,
     "metadata": {},
     "output_type": "execute_result"
    }
   ],
   "source": [
    "#Make a copy of Age:\n",
    "\n",
    "df['AgeFill'] = df['Age']\n",
    "\n",
    "df.head()"
   ]
  },
  {
   "cell_type": "code",
   "execution_count": 37,
   "metadata": {
    "collapsed": false
   },
   "outputs": [
    {
     "data": {
      "text/html": [
       "<div style=\"max-height:1000px;max-width:1500px;overflow:auto;\">\n",
       "<table border=\"1\" class=\"dataframe\">\n",
       "  <thead>\n",
       "    <tr style=\"text-align: right;\">\n",
       "      <th></th>\n",
       "      <th>Gender</th>\n",
       "      <th>Pclass</th>\n",
       "      <th>Age</th>\n",
       "      <th>AgeFill</th>\n",
       "    </tr>\n",
       "  </thead>\n",
       "  <tbody>\n",
       "    <tr>\n",
       "      <th>5 </th>\n",
       "      <td> 1</td>\n",
       "      <td> 3</td>\n",
       "      <td>NaN</td>\n",
       "      <td> 25.0</td>\n",
       "    </tr>\n",
       "    <tr>\n",
       "      <th>17</th>\n",
       "      <td> 1</td>\n",
       "      <td> 2</td>\n",
       "      <td>NaN</td>\n",
       "      <td> 30.0</td>\n",
       "    </tr>\n",
       "    <tr>\n",
       "      <th>19</th>\n",
       "      <td> 0</td>\n",
       "      <td> 3</td>\n",
       "      <td>NaN</td>\n",
       "      <td> 21.5</td>\n",
       "    </tr>\n",
       "    <tr>\n",
       "      <th>26</th>\n",
       "      <td> 1</td>\n",
       "      <td> 3</td>\n",
       "      <td>NaN</td>\n",
       "      <td> 25.0</td>\n",
       "    </tr>\n",
       "    <tr>\n",
       "      <th>28</th>\n",
       "      <td> 0</td>\n",
       "      <td> 3</td>\n",
       "      <td>NaN</td>\n",
       "      <td> 21.5</td>\n",
       "    </tr>\n",
       "    <tr>\n",
       "      <th>29</th>\n",
       "      <td> 1</td>\n",
       "      <td> 3</td>\n",
       "      <td>NaN</td>\n",
       "      <td> 25.0</td>\n",
       "    </tr>\n",
       "    <tr>\n",
       "      <th>31</th>\n",
       "      <td> 0</td>\n",
       "      <td> 1</td>\n",
       "      <td>NaN</td>\n",
       "      <td> 35.0</td>\n",
       "    </tr>\n",
       "    <tr>\n",
       "      <th>32</th>\n",
       "      <td> 0</td>\n",
       "      <td> 3</td>\n",
       "      <td>NaN</td>\n",
       "      <td> 21.5</td>\n",
       "    </tr>\n",
       "    <tr>\n",
       "      <th>36</th>\n",
       "      <td> 1</td>\n",
       "      <td> 3</td>\n",
       "      <td>NaN</td>\n",
       "      <td> 25.0</td>\n",
       "    </tr>\n",
       "    <tr>\n",
       "      <th>42</th>\n",
       "      <td> 1</td>\n",
       "      <td> 3</td>\n",
       "      <td>NaN</td>\n",
       "      <td> 25.0</td>\n",
       "    </tr>\n",
       "  </tbody>\n",
       "</table>\n",
       "</div>"
      ],
      "text/plain": [
       "    Gender  Pclass  Age  AgeFill\n",
       "5        1       3  NaN     25.0\n",
       "17       1       2  NaN     30.0\n",
       "19       0       3  NaN     21.5\n",
       "26       1       3  NaN     25.0\n",
       "28       0       3  NaN     21.5\n",
       "29       1       3  NaN     25.0\n",
       "31       0       1  NaN     35.0\n",
       "32       0       3  NaN     21.5\n",
       "36       1       3  NaN     25.0\n",
       "42       1       3  NaN     25.0"
      ]
     },
     "execution_count": 37,
     "metadata": {},
     "output_type": "execute_result"
    }
   ],
   "source": [
    "#fill in the missing into AgeFill\n",
    "for i in range(0, 2):\n",
    "    for j in range(0, 3):\n",
    "        df.loc[ (df.Age.isnull()) & (df.Gender == i) & (df.Pclass == j+1),\\\n",
    "                'AgeFill'] = median_ages[i,j]\n",
    "        \n",
    "df[ df['Age'].isnull() ][['Gender','Pclass','Age','AgeFill']].head(10)"
   ]
  },
  {
   "cell_type": "code",
   "execution_count": 38,
   "metadata": {
    "collapsed": true
   },
   "outputs": [],
   "source": [
    "df['AgeIsNull'] = pd.isnull(df.Age).astype(int)"
   ]
  },
  {
   "cell_type": "markdown",
   "metadata": {},
   "source": [
    "##Feature Engineering"
   ]
  },
  {
   "cell_type": "markdown",
   "metadata": {
    "collapsed": true
   },
   "source": [
    "Let's create a couple of other features, this time using simple math on existing columns. Since we know that Parch is the number of parents or children onboard, and SibSp is the number of siblings or spouses, we could collect those together as a FamilySize:\n",
    "\n",
    "\n"
   ]
  },
  {
   "cell_type": "code",
   "execution_count": 39,
   "metadata": {
    "collapsed": true
   },
   "outputs": [],
   "source": [
    "df['FamilySize'] = df['SibSp'] + df['Parch']"
   ]
  },
  {
   "cell_type": "code",
   "execution_count": 41,
   "metadata": {
    "collapsed": false,
    "scrolled": true
   },
   "outputs": [
    {
     "data": {
      "text/html": [
       "<div style=\"max-height:1000px;max-width:1500px;overflow:auto;\">\n",
       "<table border=\"1\" class=\"dataframe\">\n",
       "  <thead>\n",
       "    <tr style=\"text-align: right;\">\n",
       "      <th></th>\n",
       "      <th>PassengerId</th>\n",
       "      <th>Survived</th>\n",
       "      <th>Pclass</th>\n",
       "      <th>Name</th>\n",
       "      <th>Sex</th>\n",
       "      <th>Age</th>\n",
       "      <th>SibSp</th>\n",
       "      <th>Parch</th>\n",
       "      <th>Ticket</th>\n",
       "      <th>Fare</th>\n",
       "      <th>Cabin</th>\n",
       "      <th>Embarked</th>\n",
       "      <th>Gender</th>\n",
       "      <th>AgeFill</th>\n",
       "      <th>AgeIsNull</th>\n",
       "      <th>FamilySize</th>\n",
       "    </tr>\n",
       "  </thead>\n",
       "  <tbody>\n",
       "    <tr>\n",
       "      <th>0</th>\n",
       "      <td> 1</td>\n",
       "      <td> 0</td>\n",
       "      <td> 3</td>\n",
       "      <td>                           Braund, Mr. Owen Harris</td>\n",
       "      <td>   male</td>\n",
       "      <td> 22</td>\n",
       "      <td> 1</td>\n",
       "      <td> 0</td>\n",
       "      <td>        A/5 21171</td>\n",
       "      <td>  7.2500</td>\n",
       "      <td>  NaN</td>\n",
       "      <td> S</td>\n",
       "      <td> 1</td>\n",
       "      <td> 22</td>\n",
       "      <td> 0</td>\n",
       "      <td> 1</td>\n",
       "    </tr>\n",
       "    <tr>\n",
       "      <th>1</th>\n",
       "      <td> 2</td>\n",
       "      <td> 1</td>\n",
       "      <td> 1</td>\n",
       "      <td> Cumings, Mrs. John Bradley (Florence Briggs Th...</td>\n",
       "      <td> female</td>\n",
       "      <td> 38</td>\n",
       "      <td> 1</td>\n",
       "      <td> 0</td>\n",
       "      <td>         PC 17599</td>\n",
       "      <td> 71.2833</td>\n",
       "      <td>  C85</td>\n",
       "      <td> C</td>\n",
       "      <td> 0</td>\n",
       "      <td> 38</td>\n",
       "      <td> 0</td>\n",
       "      <td> 1</td>\n",
       "    </tr>\n",
       "    <tr>\n",
       "      <th>2</th>\n",
       "      <td> 3</td>\n",
       "      <td> 1</td>\n",
       "      <td> 3</td>\n",
       "      <td>                            Heikkinen, Miss. Laina</td>\n",
       "      <td> female</td>\n",
       "      <td> 26</td>\n",
       "      <td> 0</td>\n",
       "      <td> 0</td>\n",
       "      <td> STON/O2. 3101282</td>\n",
       "      <td>  7.9250</td>\n",
       "      <td>  NaN</td>\n",
       "      <td> S</td>\n",
       "      <td> 0</td>\n",
       "      <td> 26</td>\n",
       "      <td> 0</td>\n",
       "      <td> 0</td>\n",
       "    </tr>\n",
       "    <tr>\n",
       "      <th>3</th>\n",
       "      <td> 4</td>\n",
       "      <td> 1</td>\n",
       "      <td> 1</td>\n",
       "      <td>      Futrelle, Mrs. Jacques Heath (Lily May Peel)</td>\n",
       "      <td> female</td>\n",
       "      <td> 35</td>\n",
       "      <td> 1</td>\n",
       "      <td> 0</td>\n",
       "      <td>           113803</td>\n",
       "      <td> 53.1000</td>\n",
       "      <td> C123</td>\n",
       "      <td> S</td>\n",
       "      <td> 0</td>\n",
       "      <td> 35</td>\n",
       "      <td> 0</td>\n",
       "      <td> 1</td>\n",
       "    </tr>\n",
       "    <tr>\n",
       "      <th>4</th>\n",
       "      <td> 5</td>\n",
       "      <td> 0</td>\n",
       "      <td> 3</td>\n",
       "      <td>                          Allen, Mr. William Henry</td>\n",
       "      <td>   male</td>\n",
       "      <td> 35</td>\n",
       "      <td> 0</td>\n",
       "      <td> 0</td>\n",
       "      <td>           373450</td>\n",
       "      <td>  8.0500</td>\n",
       "      <td>  NaN</td>\n",
       "      <td> S</td>\n",
       "      <td> 1</td>\n",
       "      <td> 35</td>\n",
       "      <td> 0</td>\n",
       "      <td> 0</td>\n",
       "    </tr>\n",
       "  </tbody>\n",
       "</table>\n",
       "</div>"
      ],
      "text/plain": [
       "   PassengerId  Survived  Pclass  \\\n",
       "0            1         0       3   \n",
       "1            2         1       1   \n",
       "2            3         1       3   \n",
       "3            4         1       1   \n",
       "4            5         0       3   \n",
       "\n",
       "                                                Name     Sex  Age  SibSp  \\\n",
       "0                            Braund, Mr. Owen Harris    male   22      1   \n",
       "1  Cumings, Mrs. John Bradley (Florence Briggs Th...  female   38      1   \n",
       "2                             Heikkinen, Miss. Laina  female   26      0   \n",
       "3       Futrelle, Mrs. Jacques Heath (Lily May Peel)  female   35      1   \n",
       "4                           Allen, Mr. William Henry    male   35      0   \n",
       "\n",
       "   Parch            Ticket     Fare Cabin Embarked  Gender  AgeFill  \\\n",
       "0      0         A/5 21171   7.2500   NaN        S       1       22   \n",
       "1      0          PC 17599  71.2833   C85        C       0       38   \n",
       "2      0  STON/O2. 3101282   7.9250   NaN        S       0       26   \n",
       "3      0            113803  53.1000  C123        S       0       35   \n",
       "4      0            373450   8.0500   NaN        S       1       35   \n",
       "\n",
       "   AgeIsNull  FamilySize  \n",
       "0          0           1  \n",
       "1          0           1  \n",
       "2          0           0  \n",
       "3          0           1  \n",
       "4          0           0  "
      ]
     },
     "execution_count": 41,
     "metadata": {},
     "output_type": "execute_result"
    }
   ],
   "source": [
    "df.head()"
   ]
  },
  {
   "cell_type": "code",
   "execution_count": 43,
   "metadata": {
    "collapsed": true
   },
   "outputs": [],
   "source": [
    "df['Age*Class'] = df.AgeFill * df.Pclass\n",
    "df['Age*Class'].dropna().hist(bins=16, range=(0,80), alpha = .5)\n",
    "P.show()"
   ]
  },
  {
   "cell_type": "markdown",
   "metadata": {},
   "source": [
    "##Final Preparation\n",
    "\n",
    "We have our data almost ready for machine learning. But most basic ML techniques will not work on strings, and in python they almost always require the data to be an array-- the implementations we will see in the sklearn package are not written to use a pandas dataframe. So the last two things we need to do are \n",
    "\n",
    "**(1) determine what columns we have left which are not numeric**\n",
    "\n",
    "\n",
    "**(2) send our pandas.DataFrame back to a numpy.array.**"
   ]
  },
  {
   "cell_type": "code",
   "execution_count": 45,
   "metadata": {
    "collapsed": false
   },
   "outputs": [
    {
     "data": {
      "text/plain": [
       "PassengerId      int64\n",
       "Survived         int64\n",
       "Pclass           int64\n",
       "Name            object\n",
       "Sex             object\n",
       "Age            float64\n",
       "SibSp            int64\n",
       "Parch            int64\n",
       "Ticket          object\n",
       "Fare           float64\n",
       "Cabin           object\n",
       "Embarked        object\n",
       "Gender           int64\n",
       "AgeFill        float64\n",
       "AgeIsNull        int64\n",
       "FamilySize       int64\n",
       "Age*Class      float64\n",
       "dtype: object"
      ]
     },
     "execution_count": 45,
     "metadata": {},
     "output_type": "execute_result"
    }
   ],
   "source": [
    "df.dtypes"
   ]
  },
  {
   "cell_type": "code",
   "execution_count": 46,
   "metadata": {
    "collapsed": false
   },
   "outputs": [
    {
     "data": {
      "text/plain": [
       "Name        object\n",
       "Sex         object\n",
       "Ticket      object\n",
       "Cabin       object\n",
       "Embarked    object\n",
       "dtype: object"
      ]
     },
     "execution_count": 46,
     "metadata": {},
     "output_type": "execute_result"
    }
   ],
   "source": [
    "#which columns are \"strings\"\n",
    "df.dtypes[df.dtypes.map(lambda x: x=='object')]\n"
   ]
  },
  {
   "cell_type": "code",
   "execution_count": 55,
   "metadata": {
    "collapsed": false
   },
   "outputs": [
    {
     "ename": "ValueError",
     "evalue": "labels ['Age'] not contained in axis",
     "output_type": "error",
     "traceback": [
      "\u001b[1;31m---------------------------------------------------------------------------\u001b[0m",
      "\u001b[1;31mValueError\u001b[0m                                Traceback (most recent call last)",
      "\u001b[1;32m<ipython-input-55-e9e8af68d6f7>\u001b[0m in \u001b[0;36m<module>\u001b[1;34m()\u001b[0m\n\u001b[0;32m      1\u001b[0m \u001b[1;31m#drop age since we already copied it to another column\u001b[0m\u001b[1;33m\u001b[0m\u001b[1;33m\u001b[0m\u001b[0m\n\u001b[1;32m----> 2\u001b[1;33m \u001b[0mdf\u001b[0m \u001b[1;33m=\u001b[0m \u001b[0mdf\u001b[0m\u001b[1;33m.\u001b[0m\u001b[0mdrop\u001b[0m\u001b[1;33m(\u001b[0m\u001b[1;33m[\u001b[0m\u001b[1;34m'Age'\u001b[0m\u001b[1;33m]\u001b[0m\u001b[1;33m,\u001b[0m \u001b[0maxis\u001b[0m\u001b[1;33m=\u001b[0m\u001b[1;36m1\u001b[0m\u001b[1;33m)\u001b[0m\u001b[1;33m\u001b[0m\u001b[0m\n\u001b[0m",
      "\u001b[1;32m/usr/lib/python2.7/dist-packages/pandas/core/generic.pyc\u001b[0m in \u001b[0;36mdrop\u001b[1;34m(self, labels, axis, level, inplace, **kwargs)\u001b[0m\n\u001b[0;32m   1462\u001b[0m                 \u001b[0mnew_axis\u001b[0m \u001b[1;33m=\u001b[0m \u001b[0maxis\u001b[0m\u001b[1;33m.\u001b[0m\u001b[0mdrop\u001b[0m\u001b[1;33m(\u001b[0m\u001b[0mlabels\u001b[0m\u001b[1;33m,\u001b[0m \u001b[0mlevel\u001b[0m\u001b[1;33m=\u001b[0m\u001b[0mlevel\u001b[0m\u001b[1;33m)\u001b[0m\u001b[1;33m\u001b[0m\u001b[0m\n\u001b[0;32m   1463\u001b[0m             \u001b[1;32melse\u001b[0m\u001b[1;33m:\u001b[0m\u001b[1;33m\u001b[0m\u001b[0m\n\u001b[1;32m-> 1464\u001b[1;33m                 \u001b[0mnew_axis\u001b[0m \u001b[1;33m=\u001b[0m \u001b[0maxis\u001b[0m\u001b[1;33m.\u001b[0m\u001b[0mdrop\u001b[0m\u001b[1;33m(\u001b[0m\u001b[0mlabels\u001b[0m\u001b[1;33m)\u001b[0m\u001b[1;33m\u001b[0m\u001b[0m\n\u001b[0m\u001b[0;32m   1465\u001b[0m             \u001b[0mdropped\u001b[0m \u001b[1;33m=\u001b[0m \u001b[0mself\u001b[0m\u001b[1;33m.\u001b[0m\u001b[0mreindex\u001b[0m\u001b[1;33m(\u001b[0m\u001b[1;33m**\u001b[0m\u001b[1;33m{\u001b[0m\u001b[0maxis_name\u001b[0m\u001b[1;33m:\u001b[0m \u001b[0mnew_axis\u001b[0m\u001b[1;33m}\u001b[0m\u001b[1;33m)\u001b[0m\u001b[1;33m\u001b[0m\u001b[0m\n\u001b[0;32m   1466\u001b[0m             \u001b[1;32mtry\u001b[0m\u001b[1;33m:\u001b[0m\u001b[1;33m\u001b[0m\u001b[0m\n",
      "\u001b[1;32m/usr/lib/python2.7/dist-packages/pandas/core/index.pyc\u001b[0m in \u001b[0;36mdrop\u001b[1;34m(self, labels)\u001b[0m\n\u001b[0;32m   1829\u001b[0m         \u001b[0mmask\u001b[0m \u001b[1;33m=\u001b[0m \u001b[0mindexer\u001b[0m \u001b[1;33m==\u001b[0m \u001b[1;33m-\u001b[0m\u001b[1;36m1\u001b[0m\u001b[1;33m\u001b[0m\u001b[0m\n\u001b[0;32m   1830\u001b[0m         \u001b[1;32mif\u001b[0m \u001b[0mmask\u001b[0m\u001b[1;33m.\u001b[0m\u001b[0many\u001b[0m\u001b[1;33m(\u001b[0m\u001b[1;33m)\u001b[0m\u001b[1;33m:\u001b[0m\u001b[1;33m\u001b[0m\u001b[0m\n\u001b[1;32m-> 1831\u001b[1;33m             \u001b[1;32mraise\u001b[0m \u001b[0mValueError\u001b[0m\u001b[1;33m(\u001b[0m\u001b[1;34m'labels %s not contained in axis'\u001b[0m \u001b[1;33m%\u001b[0m \u001b[0mlabels\u001b[0m\u001b[1;33m[\u001b[0m\u001b[0mmask\u001b[0m\u001b[1;33m]\u001b[0m\u001b[1;33m)\u001b[0m\u001b[1;33m\u001b[0m\u001b[0m\n\u001b[0m\u001b[0;32m   1832\u001b[0m         \u001b[1;32mreturn\u001b[0m \u001b[0mself\u001b[0m\u001b[1;33m.\u001b[0m\u001b[0mdelete\u001b[0m\u001b[1;33m(\u001b[0m\u001b[0mindexer\u001b[0m\u001b[1;33m)\u001b[0m\u001b[1;33m\u001b[0m\u001b[0m\n\u001b[0;32m   1833\u001b[0m \u001b[1;33m\u001b[0m\u001b[0m\n",
      "\u001b[1;31mValueError\u001b[0m: labels ['Age'] not contained in axis"
     ]
    }
   ],
   "source": [
    "#drop age since we already copied it to another column\n",
    "df = df.drop(['Age'], axis=1)"
   ]
  },
  {
   "cell_type": "code",
   "execution_count": 53,
   "metadata": {
    "collapsed": false
   },
   "outputs": [],
   "source": [
    "#Here we drop any other observations with missing values\n",
    "df = df.dropna()"
   ]
  },
  {
   "cell_type": "markdown",
   "metadata": {},
   "source": [
    "But remember that .dropna() removes an observation from df even if it only has 1 NaN, anywhere, in any of its columns. It could delete most of your dataset if you aren't careful with the state of missing values in other columns!\n",
    "\n",
    "Now we have a clean and tidy dataset that is ready for analysis.\n",
    "\n",
    "The final step is to convert it into a Numpy array. Pandas can always send back an array using the .values method. Assign to a new variable, train_data:"
   ]
  },
  {
   "cell_type": "code",
   "execution_count": 49,
   "metadata": {
    "collapsed": false
   },
   "outputs": [
    {
     "data": {
      "text/plain": [
       "array([[2, 1, 1, ..., 0, 1, 38.0],\n",
       "       [4, 1, 1, ..., 0, 1, 35.0],\n",
       "       [7, 0, 1, ..., 0, 0, 54.0],\n",
       "       ..., \n",
       "       [880, 1, 1, ..., 0, 1, 56.0],\n",
       "       [888, 1, 1, ..., 0, 0, 19.0],\n",
       "       [890, 1, 1, ..., 0, 0, 26.0]], dtype=object)"
      ]
     },
     "execution_count": 49,
     "metadata": {},
     "output_type": "execute_result"
    }
   ],
   "source": [
    "train_data = df.values\n",
    "train_data"
   ]
  },
  {
   "cell_type": "markdown",
   "metadata": {},
   "source": [
    "#Getting Started With Random Forests"
   ]
  },
  {
   "cell_type": "markdown",
   "metadata": {},
   "source": [
    "What is a Random Forest?\n",
    "\n",
    "As with all the important questions in life, this is best deferred to the Wikipedia page. A random forest is an ensemble of decision trees which will output a prediction value, in this case survival. Each decision tree is constructed by using a random subset of the training data. After you have trained your forest, you can then pass each test row through it, in order to output a prediction. Simple! Well not quite! This particular python function requires floats for the input variables, so all strings need to be converted, and any missing data needs to be filled."
   ]
  },
  {
   "cell_type": "code",
   "execution_count": 71,
   "metadata": {
    "collapsed": false
   },
   "outputs": [
    {
     "data": {
      "text/plain": [
       "Survived        int64\n",
       "Pclass          int64\n",
       "SibSp           int64\n",
       "Parch           int64\n",
       "Fare          float64\n",
       "AgeFill       float64\n",
       "AgeIsNull       int64\n",
       "FamilySize      int64\n",
       "Age*Class     float64\n",
       "dtype: object"
      ]
     },
     "execution_count": 71,
     "metadata": {},
     "output_type": "execute_result"
    }
   ],
   "source": [
    "#we have to make sure there are no \"strings\" or \"object\"\n",
    "df.dtypes"
   ]
  },
  {
   "cell_type": "code",
   "execution_count": 59,
   "metadata": {
    "collapsed": false
   },
   "outputs": [
    {
     "data": {
      "text/plain": [
       "array([[1, 1, 'female', ..., 0, 1, 38.0],\n",
       "       [1, 1, 'female', ..., 0, 1, 35.0],\n",
       "       [0, 1, 'male', ..., 0, 0, 54.0],\n",
       "       ..., \n",
       "       [1, 1, 'female', ..., 0, 1, 56.0],\n",
       "       [1, 1, 'female', ..., 0, 0, 19.0],\n",
       "       [1, 1, 'male', ..., 0, 0, 26.0]], dtype=object)"
      ]
     },
     "execution_count": 59,
     "metadata": {},
     "output_type": "execute_result"
    }
   ],
   "source": [
    "df = df.drop(['Name'], axis=1)\n",
    "df = df.drop(['PassengerId'], axis=1)\n",
    "df = df.drop(['Cabin'], axis=1)\n",
    "df = df.drop(['Ticket'], axis=1)\n",
    "df = df.drop(['Embarked'], axis=1)\n",
    "train_data = df.values\n",
    "train_data"
   ]
  },
  {
   "cell_type": "code",
   "execution_count": 69,
   "metadata": {
    "collapsed": false
   },
   "outputs": [],
   "source": [
    "# Import the random forest package\n",
    "from sklearn.ensemble import RandomForestClassifier \n",
    "\n",
    "# Create the random forest object which will include all the parameters\n",
    "# for the fit\n",
    "forest = RandomForestClassifier(n_estimators = 100)\n",
    "\n",
    "# Fit the training data to the Survived labels and create the decision trees\n",
    "forest = forest.fit(train_data[0::,1::],train_data[0::,0])\n",
    "\n",
    "# Take the same decision trees and run it on the test data\n",
    "#output = forest.predict(test_data)"
   ]
  },
  {
   "cell_type": "markdown",
   "metadata": {},
   "source": [
    "http://scikit-learn.org/dev/modules/generated/sklearn.ensemble.RandomForestClassifier.html"
   ]
  },
  {
   "cell_type": "code",
   "execution_count": null,
   "metadata": {
    "collapsed": true
   },
   "outputs": [],
   "source": []
  }
 ],
 "metadata": {
  "kernelspec": {
   "display_name": "Python 2",
   "language": "python",
   "name": "python2"
  },
  "language_info": {
   "codemirror_mode": {
    "name": "ipython",
    "version": 2
   },
   "file_extension": ".py",
   "mimetype": "text/x-python",
   "name": "python",
   "nbconvert_exporter": "python",
   "pygments_lexer": "ipython2",
   "version": "2.7.8"
  }
 },
 "nbformat": 4,
 "nbformat_minor": 0
}
