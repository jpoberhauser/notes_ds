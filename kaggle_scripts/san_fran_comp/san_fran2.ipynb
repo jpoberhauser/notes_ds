{
 "cells": [
  {
   "cell_type": "markdown",
   "metadata": {},
   "source": [
    "# SVM & Decision Trees"
   ]
  },
  {
   "cell_type": "code",
   "execution_count": 5,
   "metadata": {
    "collapsed": true
   },
   "outputs": [],
   "source": [
    "import pandas as pd\n",
    "import numpy as np\n",
    "from sklearn.grid_search import RandomizedSearchCV\n",
    "from sklearn.cross_validation import train_test_split\n",
    "#leemos train y test\n",
    "train = pd.read_csv(\"data/train.csv\")\n",
    "test = pd.read_csv(\"data/test.csv\")\n",
    "#quitamos columnas de catregoria, descripcion, resolucion, y address del train\n",
    "X_train = train.drop(['Category','Descript','Resolution','Address'], axis=1)\n",
    "y_train = train['Category']\n",
    "#hacemos columna de hora\n",
    "def hour(x):\n",
    "    y=x[-8:-6]\n",
    "    return int(y)\n",
    "\n",
    "X_train['Hour'] = map(hour, X_train.Dates)\n",
    "\n",
    "#hacemos la columna de dia de la semana y district DUMMY:\n",
    "#dummy = pd.get_dummies(X_train.PdDistrict)\n",
    "dummy_dayofweek = pd.get_dummies(X_train.DayOfWeek)\n",
    "#X_train_1 = pd.concat([X_train, dummy], axis=1, join='inner')\n",
    "X_train_2 = pd.concat([X_train, dummy_dayofweek], axis=1, join='inner')\n",
    "X_train_new = X_train_2.drop(['DayOfWeek','Dates','PdDistrict'],axis=1)\n",
    "\n",
    "##Le hacemos el mismo tratamiento a X_test para poder probar con los mismos features:\n",
    "X_test = test.drop(['Address'], axis=1)\n",
    "def hour(x):\n",
    "    y=x[-8:-6]\n",
    "    return int(y)\n",
    "\n",
    "X_test['Hour'] = map(hour, X_test.Dates)\n",
    "dummy = pd.get_dummies(X_test.PdDistrict)\n",
    "dummy_dayofweek = pd.get_dummies(X_test.DayOfWeek)\n",
    "X_test_1 = pd.concat([X_test, dummy], axis=1, join='inner')\n",
    "X_test_2 = pd.concat([X_test_1, dummy_dayofweek], axis=1, join='inner')\n",
    "\n",
    "X_test_new = X_test_2.drop(['DayOfWeek','Dates','PdDistrict','Id'],axis=1)"
   ]
  },
  {
   "cell_type": "code",
   "execution_count": 6,
   "metadata": {
    "collapsed": true
   },
   "outputs": [],
   "source": [
    "#Aqui usamos el train para dividirlo en mas \n",
    "X_train_s, X_test_s, y_train_s, y_test_s = train_test_split(X_train_new,y_train,test_size=0.4, random_state=4)"
   ]
  },
  {
   "cell_type": "code",
   "execution_count": 12,
   "metadata": {
    "collapsed": false
   },
   "outputs": [
    {
     "data": {
      "text/html": [
       "<div style=\"max-height:1000px;max-width:1500px;overflow:auto;\">\n",
       "<table border=\"1\" class=\"dataframe\">\n",
       "  <thead>\n",
       "    <tr style=\"text-align: right;\">\n",
       "      <th></th>\n",
       "      <th>X</th>\n",
       "      <th>Y</th>\n",
       "      <th>Hour</th>\n",
       "      <th>Friday</th>\n",
       "      <th>Monday</th>\n",
       "      <th>Saturday</th>\n",
       "      <th>Sunday</th>\n",
       "      <th>Thursday</th>\n",
       "      <th>Tuesday</th>\n",
       "      <th>Wednesday</th>\n",
       "    </tr>\n",
       "  </thead>\n",
       "  <tbody>\n",
       "    <tr>\n",
       "      <th>0</th>\n",
       "      <td>-122.425892</td>\n",
       "      <td> 37.774599</td>\n",
       "      <td> 23</td>\n",
       "      <td> 0</td>\n",
       "      <td> 0</td>\n",
       "      <td> 0</td>\n",
       "      <td> 0</td>\n",
       "      <td> 0</td>\n",
       "      <td> 0</td>\n",
       "      <td> 1</td>\n",
       "    </tr>\n",
       "    <tr>\n",
       "      <th>1</th>\n",
       "      <td>-122.425892</td>\n",
       "      <td> 37.774599</td>\n",
       "      <td> 23</td>\n",
       "      <td> 0</td>\n",
       "      <td> 0</td>\n",
       "      <td> 0</td>\n",
       "      <td> 0</td>\n",
       "      <td> 0</td>\n",
       "      <td> 0</td>\n",
       "      <td> 1</td>\n",
       "    </tr>\n",
       "    <tr>\n",
       "      <th>2</th>\n",
       "      <td>-122.424363</td>\n",
       "      <td> 37.800414</td>\n",
       "      <td> 23</td>\n",
       "      <td> 0</td>\n",
       "      <td> 0</td>\n",
       "      <td> 0</td>\n",
       "      <td> 0</td>\n",
       "      <td> 0</td>\n",
       "      <td> 0</td>\n",
       "      <td> 1</td>\n",
       "    </tr>\n",
       "    <tr>\n",
       "      <th>3</th>\n",
       "      <td>-122.426995</td>\n",
       "      <td> 37.800873</td>\n",
       "      <td> 23</td>\n",
       "      <td> 0</td>\n",
       "      <td> 0</td>\n",
       "      <td> 0</td>\n",
       "      <td> 0</td>\n",
       "      <td> 0</td>\n",
       "      <td> 0</td>\n",
       "      <td> 1</td>\n",
       "    </tr>\n",
       "    <tr>\n",
       "      <th>4</th>\n",
       "      <td>-122.438738</td>\n",
       "      <td> 37.771541</td>\n",
       "      <td> 23</td>\n",
       "      <td> 0</td>\n",
       "      <td> 0</td>\n",
       "      <td> 0</td>\n",
       "      <td> 0</td>\n",
       "      <td> 0</td>\n",
       "      <td> 0</td>\n",
       "      <td> 1</td>\n",
       "    </tr>\n",
       "    <tr>\n",
       "      <th>5</th>\n",
       "      <td>-122.403252</td>\n",
       "      <td> 37.713431</td>\n",
       "      <td> 23</td>\n",
       "      <td> 0</td>\n",
       "      <td> 0</td>\n",
       "      <td> 0</td>\n",
       "      <td> 0</td>\n",
       "      <td> 0</td>\n",
       "      <td> 0</td>\n",
       "      <td> 1</td>\n",
       "    </tr>\n",
       "    <tr>\n",
       "      <th>6</th>\n",
       "      <td>-122.423327</td>\n",
       "      <td> 37.725138</td>\n",
       "      <td> 23</td>\n",
       "      <td> 0</td>\n",
       "      <td> 0</td>\n",
       "      <td> 0</td>\n",
       "      <td> 0</td>\n",
       "      <td> 0</td>\n",
       "      <td> 0</td>\n",
       "      <td> 1</td>\n",
       "    </tr>\n",
       "    <tr>\n",
       "      <th>7</th>\n",
       "      <td>-122.371274</td>\n",
       "      <td> 37.727564</td>\n",
       "      <td> 23</td>\n",
       "      <td> 0</td>\n",
       "      <td> 0</td>\n",
       "      <td> 0</td>\n",
       "      <td> 0</td>\n",
       "      <td> 0</td>\n",
       "      <td> 0</td>\n",
       "      <td> 1</td>\n",
       "    </tr>\n",
       "    <tr>\n",
       "      <th>8</th>\n",
       "      <td>-122.508194</td>\n",
       "      <td> 37.776601</td>\n",
       "      <td> 23</td>\n",
       "      <td> 0</td>\n",
       "      <td> 0</td>\n",
       "      <td> 0</td>\n",
       "      <td> 0</td>\n",
       "      <td> 0</td>\n",
       "      <td> 0</td>\n",
       "      <td> 1</td>\n",
       "    </tr>\n",
       "    <tr>\n",
       "      <th>9</th>\n",
       "      <td>-122.419088</td>\n",
       "      <td> 37.807802</td>\n",
       "      <td> 23</td>\n",
       "      <td> 0</td>\n",
       "      <td> 0</td>\n",
       "      <td> 0</td>\n",
       "      <td> 0</td>\n",
       "      <td> 0</td>\n",
       "      <td> 0</td>\n",
       "      <td> 1</td>\n",
       "    </tr>\n",
       "  </tbody>\n",
       "</table>\n",
       "</div>"
      ],
      "text/plain": [
       "            X          Y  Hour  Friday  Monday  Saturday  Sunday  Thursday  \\\n",
       "0 -122.425892  37.774599    23       0       0         0       0         0   \n",
       "1 -122.425892  37.774599    23       0       0         0       0         0   \n",
       "2 -122.424363  37.800414    23       0       0         0       0         0   \n",
       "3 -122.426995  37.800873    23       0       0         0       0         0   \n",
       "4 -122.438738  37.771541    23       0       0         0       0         0   \n",
       "5 -122.403252  37.713431    23       0       0         0       0         0   \n",
       "6 -122.423327  37.725138    23       0       0         0       0         0   \n",
       "7 -122.371274  37.727564    23       0       0         0       0         0   \n",
       "8 -122.508194  37.776601    23       0       0         0       0         0   \n",
       "9 -122.419088  37.807802    23       0       0         0       0         0   \n",
       "\n",
       "   Tuesday  Wednesday  \n",
       "0        0          1  \n",
       "1        0          1  \n",
       "2        0          1  \n",
       "3        0          1  \n",
       "4        0          1  \n",
       "5        0          1  \n",
       "6        0          1  \n",
       "7        0          1  \n",
       "8        0          1  \n",
       "9        0          1  "
      ]
     },
     "execution_count": 12,
     "metadata": {},
     "output_type": "execute_result"
    }
   ],
   "source": [
    "X_train_new.head(10)"
   ]
  },
  {
   "cell_type": "code",
   "execution_count": 10,
   "metadata": {
    "collapsed": true
   },
   "outputs": [],
   "source": [
    "from sklearn import tree\n",
    "clf = tree.DecisionTreeClassifier()\n",
    "clf = clf.fit(X_train_s, y_train_s)"
   ]
  },
  {
   "cell_type": "code",
   "execution_count": 11,
   "metadata": {
    "collapsed": false
   },
   "outputs": [
    {
     "data": {
      "text/plain": [
       "array([ 0.22612143,  0.22789675,  0.26490414,  0.04223444,  0.04078397,\n",
       "        0.03921391,  0.03667801,  0.04087079,  0.04008601,  0.04121055])"
      ]
     },
     "execution_count": 11,
     "metadata": {},
     "output_type": "execute_result"
    }
   ],
   "source": [
    "clf.feature_importances_"
   ]
  },
  {
   "cell_type": "code",
   "execution_count": 14,
   "metadata": {
    "collapsed": false
   },
   "outputs": [
    {
     "name": "stdout",
     "output_type": "stream",
     "text": [
      "0.234801548887\n"
     ]
    }
   ],
   "source": [
    "from sklearn.datasets import load_iris\n",
    "from sklearn.cross_validation import train_test_split\n",
    "from sklearn.neighbors import KNeighborsClassifier\n",
    "from sklearn import metrics\n",
    "y_pred = clf.predict(X_test_s)\n",
    "print metrics.accuracy_score(y_test_s, y_pred)"
   ]
  },
  {
   "cell_type": "markdown",
   "metadata": {},
   "source": [
    "## SVM"
   ]
  },
  {
   "cell_type": "code",
   "execution_count": null,
   "metadata": {
    "collapsed": true
   },
   "outputs": [],
   "source": []
  }
 ],
 "metadata": {
  "kernelspec": {
   "display_name": "Python 2",
   "language": "python",
   "name": "python2"
  },
  "language_info": {
   "codemirror_mode": {
    "name": "ipython",
    "version": 2
   },
   "file_extension": ".py",
   "mimetype": "text/x-python",
   "name": "python",
   "nbconvert_exporter": "python",
   "pygments_lexer": "ipython2",
   "version": "2.7.8"
  }
 },
 "nbformat": 4,
 "nbformat_minor": 0
}
